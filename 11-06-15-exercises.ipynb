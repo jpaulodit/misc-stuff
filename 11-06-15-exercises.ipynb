{
 "cells": [
  {
   "cell_type": "code",
   "execution_count": 17,
   "metadata": {
    "collapsed": false
   },
   "outputs": [
    {
     "name": "stdout",
     "output_type": "stream",
     "text": [
      "False\n",
      "True\n",
      "False\n"
     ]
    }
   ],
   "source": [
    "\"\"\"\n",
    "Implement an algorithm to determine if a string has all unique characters. What\n",
    "if you cannot use additional data structures\n",
    "\"\"\"\n",
    "\n",
    "# Assume the string is ascii characters\n",
    "\n",
    "def checkUnique(s):\n",
    "    seenL = {}\n",
    "    for ch in s:\n",
    "        if ch in seenL:\n",
    "            return False\n",
    "        else:\n",
    "            seenL[ch] = True\n",
    "        \n",
    "    return True\n",
    "\n",
    "\n",
    "# Test Cases\n",
    "print checkUnique('aa')\n",
    "print checkUnique('abcde')\n",
    "print checkUnique('abcdea')\n",
    "\n",
    "# Analysis\n",
    "# Runtime : O(n)\n",
    "# Requires an extra data structure."
   ]
  },
  {
   "cell_type": "code",
   "execution_count": 18,
   "metadata": {
    "collapsed": false
   },
   "outputs": [
    {
     "name": "stdout",
     "output_type": "stream",
     "text": [
      "edcba\n"
     ]
    }
   ],
   "source": [
    "\"\"\"\n",
    "Implement a function void reverse(char* str) in C or C++ which reverses a null-terminated string\n",
    "\"\"\"\n",
    "\n",
    "def reverseString(s):\n",
    "    return s[::-1]\n",
    "\n",
    "# Test Cases\n",
    "print reverseString('abcde')"
   ]
  },
  {
   "cell_type": "code",
   "execution_count": 26,
   "metadata": {
    "collapsed": false
   },
   "outputs": [
    {
     "name": "stdout",
     "output_type": "stream",
     "text": [
      "True\n",
      "False\n",
      "True\n"
     ]
    }
   ],
   "source": [
    "\"\"\"Write a method to decide if two strings are anagrams or not\"\"\"\n",
    "\n",
    "def checkAnagrams(s1, s2):\n",
    "    return (''.join(sorted(s1)) == ''.join(sorted(s2)))\n",
    "\n",
    "# Test Cases\n",
    "print checkAnagrams('dog', 'god')\n",
    "print checkAnagrams('apple', 'orange')\n",
    "print checkAnagrams('lion', 'olin')\n",
    "\n",
    "# Runtime: O(nlogn) due to sorting."
   ]
  },
  {
   "cell_type": "code",
   "execution_count": 29,
   "metadata": {
    "collapsed": false
   },
   "outputs": [
    {
     "name": "stdout",
     "output_type": "stream",
     "text": [
      "True\n",
      "False\n",
      "True\n"
     ]
    }
   ],
   "source": [
    "# Alternative way is to use bucket sort. Create a alphabet-count for both strings.\n",
    "def checkAnagrams2(s1, s2):\n",
    "    if len(s1) != len(s2):\n",
    "        return False\n",
    "    \n",
    "    s1_counters = {}\n",
    "    for ch in s1:\n",
    "        if ch in s1_counters:\n",
    "            s1_counters[ch] += 1\n",
    "        else:\n",
    "            s1_counters[ch] = 1\n",
    "    \n",
    "    s2_counters = {}\n",
    "    for ch in s2:\n",
    "        if ch in s2_counters:\n",
    "            s2_counters[ch] += 1\n",
    "        else:\n",
    "            s2_counters[ch] = 1\n",
    "    \n",
    "    return (s1_counters == s2_counters)\n",
    "\n",
    "# Test Cases\n",
    "print checkAnagrams('dog', 'god')\n",
    "print checkAnagrams('apple', 'orange')\n",
    "print checkAnagrams('lion', 'olin')\n",
    "\n",
    "# Runtime O(n+m)"
   ]
  },
  {
   "cell_type": "code",
   "execution_count": null,
   "metadata": {
    "collapsed": true
   },
   "outputs": [],
   "source": []
  }
 ],
 "metadata": {
  "kernelspec": {
   "display_name": "Python 2",
   "language": "python",
   "name": "python2"
  },
  "language_info": {
   "codemirror_mode": {
    "name": "ipython",
    "version": 2
   },
   "file_extension": ".py",
   "mimetype": "text/x-python",
   "name": "python",
   "nbconvert_exporter": "python",
   "pygments_lexer": "ipython2",
   "version": "2.7.6"
  }
 },
 "nbformat": 4,
 "nbformat_minor": 0
}
