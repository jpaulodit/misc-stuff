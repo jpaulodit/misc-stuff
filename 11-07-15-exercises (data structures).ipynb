{
 "cells": [
  {
   "cell_type": "code",
   "execution_count": 2,
   "metadata": {
    "collapsed": true
   },
   "outputs": [],
   "source": [
    "# A node class\n",
    "\n",
    "class Node():\n",
    "    \n",
    "    def __init__(self, cargo=None, next=None):\n",
    "        self.cargo = cargo\n",
    "        self.next = next\n",
    "        \n",
    "    def __str__(self):\n",
    "        return str(self.cargo)"
   ]
  },
  {
   "cell_type": "code",
   "execution_count": 3,
   "metadata": {
    "collapsed": false
   },
   "outputs": [],
   "source": [
    "node1 = Node(1)\n",
    "node2 = Node(2)\n",
    "node3 = Node(3)"
   ]
  },
  {
   "cell_type": "code",
   "execution_count": 4,
   "metadata": {
    "collapsed": true
   },
   "outputs": [],
   "source": [
    "node1.next = node2\n",
    "node2.next = node3"
   ]
  },
  {
   "cell_type": "code",
   "execution_count": 7,
   "metadata": {
    "collapsed": false
   },
   "outputs": [
    {
     "name": "stdout",
     "output_type": "stream",
     "text": [
      "2\n",
      "3\n"
     ]
    }
   ],
   "source": [
    "# print value of list starting from passed in node\n",
    "\n",
    "def print_list(node):\n",
    "    while node:\n",
    "        print node\n",
    "        node = node.next\n",
    "        \n",
    "print_list(node2)"
   ]
  },
  {
   "cell_type": "code",
   "execution_count": 12,
   "metadata": {
    "collapsed": false
   },
   "outputs": [
    {
     "name": "stdout",
     "output_type": "stream",
     "text": [
      "2\n",
      "3\n",
      "4\n",
      "4\n"
     ]
    }
   ],
   "source": [
    "# append to tail. user pass in value and a node\n",
    "\n",
    "def appendToTail(node, cargo):\n",
    "    newNode = Node(cargo)    \n",
    "    while 1:        \n",
    "        if not node.next:\n",
    "            break\n",
    "        else:\n",
    "            node = node.next\n",
    "    node.next = newNode\n",
    "            \n",
    "appendToTail(node1, 4)\n",
    "print_list(node2)"
   ]
  },
  {
   "cell_type": "code",
   "execution_count": 16,
   "metadata": {
    "collapsed": false
   },
   "outputs": [],
   "source": [
    "def printBackwards(node):\n",
    "\n",
    "    if node.next is None:\n",
    "        print node\n",
    "        return\n",
    "\n",
    "    head = node\n",
    "    tail = node.next\n",
    "    printBackwards(tail)\n",
    "    print head"
   ]
  },
  {
   "cell_type": "code",
   "execution_count": 17,
   "metadata": {
    "collapsed": false
   },
   "outputs": [
    {
     "name": "stdout",
     "output_type": "stream",
     "text": [
      "4\n",
      "4\n",
      "3\n",
      "2\n",
      "1\n"
     ]
    }
   ],
   "source": [
    "printBackwards(node1)"
   ]
  },
  {
   "cell_type": "code",
   "execution_count": 18,
   "metadata": {
    "collapsed": false
   },
   "outputs": [
    {
     "name": "stdout",
     "output_type": "stream",
     "text": [
      "1\n",
      "2\n",
      "3\n",
      "4\n",
      "4\n"
     ]
    }
   ],
   "source": [
    "print_list(node1)"
   ]
  },
  {
   "cell_type": "code",
   "execution_count": 46,
   "metadata": {
    "collapsed": false
   },
   "outputs": [],
   "source": [
    "class LinkedList:\n",
    "    def __init__(self):\n",
    "        self.length = 0\n",
    "        self.head = None\n",
    "    \n",
    "    def print_list(self):\n",
    "        print \"[\"\n",
    "        if self.head != None:\n",
    "            self.head.print_list()\n",
    "        print \"]\"\n",
    "    \n",
    "    def print_backward(self):\n",
    "        print \"[\"\n",
    "        if self.head != None:\n",
    "            self.head.print_backward()\n",
    "        print \"]\"\n",
    "        \n",
    "    def appendToTail(self, cargo):\n",
    "        newNode = Node(cargo)\n",
    "        current = self.head\n",
    "        while current.next != None:        \n",
    "            current = current.next\n",
    "        current.next = newNode\n",
    "\n",
    "    def addFirst(self, cargo):\n",
    "        node = Node(cargo)\n",
    "        node.next = self.head\n",
    "        self.head = node\n",
    "        self.length = self.length + 1\n",
    "        \n",
    "    def deleteNode(self, cargo):\n",
    "        # traverse through the list. delete the first node whoes cargo value matches.\n",
    "        node = self.head\n",
    "        prev = None\n",
    "        while node:\n",
    "            if node.cargo == cargo:\n",
    "                if prev is None:\n",
    "                    self.head = node.next\n",
    "                else:                    \n",
    "                    prev.next = node.next\n",
    "            prev = node\n",
    "            node = node.next\n",
    "\n",
    "class Node:\n",
    "    def __init__(self, cargo=None, next=None):\n",
    "        self.cargo = cargo\n",
    "        self.next = next\n",
    "        \n",
    "    def __str__(self):\n",
    "        return str(self.cargo)\n",
    "    \n",
    "    def print_backward(self):\n",
    "        if self.next != None:\n",
    "            tail = self.next\n",
    "            tail.print_backward()\n",
    "        print self.cargo\n",
    "        \n",
    "    def print_list(self):\n",
    "        node = self\n",
    "        while node:\n",
    "            print node\n",
    "            node = node.next"
   ]
  },
  {
   "cell_type": "code",
   "execution_count": 55,
   "metadata": {
    "collapsed": true
   },
   "outputs": [],
   "source": [
    "all_1 = LinkedList()"
   ]
  },
  {
   "cell_type": "code",
   "execution_count": 56,
   "metadata": {
    "collapsed": false
   },
   "outputs": [],
   "source": [
    "all_1.addFirst(1)\n",
    "all_1.appendToTail(2)\n",
    "all_1.appendToTail(-1)"
   ]
  },
  {
   "cell_type": "code",
   "execution_count": 57,
   "metadata": {
    "collapsed": false
   },
   "outputs": [
    {
     "name": "stdout",
     "output_type": "stream",
     "text": [
      "[\n",
      "1\n",
      "2\n",
      "-1\n",
      "]\n",
      "[\n",
      "1\n",
      "-1\n",
      "]\n"
     ]
    }
   ],
   "source": [
    "#all_1.print_backward()\n",
    "\n",
    "\n",
    "all_1.print_list()\n",
    "\n",
    "all_1.deleteNode(2)\n",
    "\n",
    "all_1.print_list()"
   ]
  },
  {
   "cell_type": "code",
   "execution_count": 18,
   "metadata": {
    "collapsed": true
   },
   "outputs": [],
   "source": [
    "# Implement a queue\n",
    "\n",
    "class Queue():\n",
    "    \n",
    "    def __init__(self):\n",
    "        self.first = None\n",
    "        self.last = None\n",
    "    \n",
    "    def enqueue(self, data):\n",
    "        newNode = Node(data)\n",
    "        if self.first is None:\n",
    "            self.first = newNode\n",
    "            self.last = newNode\n",
    "        else:\n",
    "            self.last.next = newNode\n",
    "            self.last = newNode\n",
    "    \n",
    "    def dequeue(self):\n",
    "        returnNode = self.first\n",
    "        if returnNode is not None:\n",
    "            self.first = self.first.next\n",
    "        \n",
    "        return returnNode\n",
    "    \n",
    "    def printQueue(self):\n",
    "        node = self.first\n",
    "        while node:\n",
    "            print(node)\n",
    "            node = node.next"
   ]
  },
  {
   "cell_type": "code",
   "execution_count": 20,
   "metadata": {
    "collapsed": false
   },
   "outputs": [
    {
     "name": "stdout",
     "output_type": "stream",
     "text": [
      "1\n",
      "2\n",
      "3\n"
     ]
    }
   ],
   "source": [
    "aQueue = Queue()\n",
    "aQueue.enqueue(1)\n",
    "aQueue.enqueue(2)\n",
    "aQueue.enqueue(3)\n",
    "aQueue.printQueue()\n",
    "aQueue.dequeue()\n",
    "aQueue.dequeue()\n",
    "aQueue.dequeue()\n",
    "aQueue.dequeue()"
   ]
  },
  {
   "cell_type": "code",
   "execution_count": 50,
   "metadata": {
    "collapsed": false
   },
   "outputs": [],
   "source": [
    "# Implement a stack\n",
    "# Also included a way to keep track of the minimum value in the stack. IDEA: use a list to keep track of the min at \n",
    "# each size of the stack.\n",
    "# TODO : a better approach is to use another stack to keep track of the minimums.\n",
    "\n",
    "class Stack():\n",
    "    \n",
    "    def __init__(self):\n",
    "        self.top = None\n",
    "        self.minList = []\n",
    "    \n",
    "    def push(self, data):\n",
    "        if self.top is None:\n",
    "            self.top = Node(data)\n",
    "            self.minList.append(data)\n",
    "        else:\n",
    "            t = Node(data)\n",
    "            t.next = self.top\n",
    "            self.top = t\n",
    "            \n",
    "            minValue = self.minList[-1]\n",
    "            if data < minValue:\n",
    "                self.minList.append(data)\n",
    "            else:\n",
    "                self.minList.append(minValue)\n",
    "    \n",
    "    def pop(self):\n",
    "        returnNode = self.top\n",
    "        if self.top is not None:\n",
    "            self.top = self.top.next\n",
    "        \n",
    "        self.minList = self.minList[:-1]\n",
    "            \n",
    "        return returnNode\n",
    "    \n",
    "    def minValue(self):\n",
    "        if self.minList:\n",
    "            return self.minList[-1]\n",
    "        else:\n",
    "            return None"
   ]
  },
  {
   "cell_type": "code",
   "execution_count": 43,
   "metadata": {
    "collapsed": false
   },
   "outputs": [],
   "source": [
    "aStack = Stack()\n",
    "aStack.push(1)\n",
    "aStack.push(2)\n",
    "aStack.push(-3)"
   ]
  },
  {
   "cell_type": "code",
   "execution_count": 44,
   "metadata": {
    "collapsed": false
   },
   "outputs": [
    {
     "name": "stdout",
     "output_type": "stream",
     "text": [
      "-3\n"
     ]
    }
   ],
   "source": [
    "print(aStack.minValue())"
   ]
  },
  {
   "cell_type": "code",
   "execution_count": 49,
   "metadata": {
    "collapsed": false
   },
   "outputs": [
    {
     "name": "stdout",
     "output_type": "stream",
     "text": [
      "None\n"
     ]
    }
   ],
   "source": [
    "aStack.pop()\n",
    "print(aStack.minValue())"
   ]
  },
  {
   "cell_type": "code",
   "execution_count": 51,
   "metadata": {
    "collapsed": false
   },
   "outputs": [],
   "source": [
    "A = [1]"
   ]
  },
  {
   "cell_type": "code",
   "execution_count": 52,
   "metadata": {
    "collapsed": false
   },
   "outputs": [
    {
     "data": {
      "text/plain": [
       "[1, 1, 1, 1]"
      ]
     },
     "execution_count": 52,
     "metadata": {},
     "output_type": "execute_result"
    }
   ],
   "source": [
    "A*4"
   ]
  },
  {
   "cell_type": "code",
   "execution_count": null,
   "metadata": {
    "collapsed": true
   },
   "outputs": [],
   "source": []
  }
 ],
 "metadata": {
  "kernelspec": {
   "display_name": "Python 2",
   "language": "python",
   "name": "python2"
  },
  "language_info": {
   "codemirror_mode": {
    "name": "ipython",
    "version": 2
   },
   "file_extension": ".py",
   "mimetype": "text/x-python",
   "name": "python",
   "nbconvert_exporter": "python",
   "pygments_lexer": "ipython2",
   "version": "2.7.6"
  }
 },
 "nbformat": 4,
 "nbformat_minor": 0
}
