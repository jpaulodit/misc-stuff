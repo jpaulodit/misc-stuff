{
 "cells": [
  {
   "cell_type": "code",
   "execution_count": 53,
   "metadata": {
    "collapsed": false
   },
   "outputs": [],
   "source": [
    "class BinarySearchTree():\n",
    "    \n",
    "    def __init__(self):\n",
    "        self.root = None\n",
    "        self.size = 0\n",
    "        \n",
    "    def length(self):\n",
    "        return self.size\n",
    "    \n",
    "    # overwrite the len()\n",
    "    def __len__(self):\n",
    "        return self.size\n",
    "    \n",
    "    def __iter__(self):\n",
    "        return self.root.__iter__()\n",
    "    \n",
    "    def insertNode(self, val):\n",
    "        if self.root:\n",
    "            self.__insertNode(val, self.root)\n",
    "        else:\n",
    "            self.root = TreeNode(val)\n",
    "        self.size += 1\n",
    "    \n",
    "    # private function. value of child of left is smaller than root.\n",
    "    def __insertNode(self, val, tNode):\n",
    "        \n",
    "        if val < tNode.data:\n",
    "            if tNode.lChild is None:\n",
    "                tNode.lChild = TreeNode(val)\n",
    "            else:\n",
    "                self.__insertNode(val, tNode.lChild)\n",
    "        else:\n",
    "            if tNode.rChild is None:\n",
    "                tNode.rChild = TreeNode(val)\n",
    "            else:\n",
    "                self.__insertNode(val, tNode.rChild)\n",
    "    \n",
    "    # perform a pre-order traversal of the tree\n",
    "    def preOrder(self):\n",
    "        if self.root is not None:\n",
    "            self.__preOrder(self.root)\n",
    "        else:\n",
    "            print(None)\n",
    "    \n",
    "    def __preOrder(self, tNode):\n",
    "        if tNode is None:\n",
    "            return\n",
    "        else:\n",
    "            print(str(tNode.data))\n",
    "            self.__preOrder(tNode.lChild)\n",
    "            self.__preOrder(tNode.rChild)\n",
    "    \n",
    "    def inOrder(self):\n",
    "        if self.root is not None:\n",
    "            self.__inOrder(self.root)\n",
    "        else:\n",
    "            print(None)\n",
    "    \n",
    "    def __inOrder(self, tNode):\n",
    "        if tNode is None:\n",
    "            return\n",
    "        else:\n",
    "            self.__preOrder(tNode.lChild)\n",
    "            print(str(tNode.data))\n",
    "            self.__preOrder(tNode.rChild)     \n",
    "\n",
    "    def postOrder(self):\n",
    "        if self.root is not None:\n",
    "            self.__postOrder(self.root)\n",
    "        else:\n",
    "            print(None)\n",
    "    \n",
    "    def __postOrder(self, tNode):\n",
    "        if tNode is None:\n",
    "            return\n",
    "        else:\n",
    "            self.__postOrder(tNode.lChild)\n",
    "            self.__postOrder(tNode.rChild)\n",
    "            print(str(tNode.data))"
   ]
  },
  {
   "cell_type": "code",
   "execution_count": 54,
   "metadata": {
    "collapsed": false
   },
   "outputs": [],
   "source": [
    "class TreeNode():\n",
    "    def __init__(self, val):\n",
    "        self.lChild = None\n",
    "        self.rChild = None\n",
    "        self.data = val"
   ]
  },
  {
   "cell_type": "code",
   "execution_count": 55,
   "metadata": {
    "collapsed": true
   },
   "outputs": [],
   "source": [
    "aBST = BinarySearchTree()"
   ]
  },
  {
   "cell_type": "code",
   "execution_count": 56,
   "metadata": {
    "collapsed": false
   },
   "outputs": [],
   "source": [
    "aBST.insertNode(ord('F'))\n",
    "aBST.insertNode(ord('D'))\n",
    "aBST.insertNode(ord('B'))\n",
    "aBST.insertNode(ord('E'))\n",
    "aBST.insertNode(ord('A'))\n",
    "aBST.insertNode(ord('C'))\n",
    "\n",
    "aBST.insertNode(ord('J'))\n",
    "aBST.insertNode(ord('G'))\n",
    "aBST.insertNode(ord('I'))\n",
    "aBST.insertNode(ord('K'))"
   ]
  },
  {
   "cell_type": "code",
   "execution_count": 57,
   "metadata": {
    "collapsed": false
   },
   "outputs": [
    {
     "name": "stdout",
     "output_type": "stream",
     "text": [
      "70\n",
      "68\n",
      "66\n",
      "65\n",
      "67\n",
      "69\n",
      "74\n",
      "71\n",
      "73\n",
      "75\n"
     ]
    }
   ],
   "source": [
    "aBST.preOrder()"
   ]
  },
  {
   "cell_type": "code",
   "execution_count": 60,
   "metadata": {
    "collapsed": false
   },
   "outputs": [
    {
     "data": {
      "text/plain": [
       "'F'"
      ]
     },
     "execution_count": 60,
     "metadata": {},
     "output_type": "execute_result"
    }
   ],
   "source": [
    "chr(70)"
   ]
  },
  {
   "cell_type": "code",
   "execution_count": null,
   "metadata": {
    "collapsed": true
   },
   "outputs": [],
   "source": []
  }
 ],
 "metadata": {
  "kernelspec": {
   "display_name": "Python 2",
   "language": "python",
   "name": "python2"
  },
  "language_info": {
   "codemirror_mode": {
    "name": "ipython",
    "version": 2
   },
   "file_extension": ".py",
   "mimetype": "text/x-python",
   "name": "python",
   "nbconvert_exporter": "python",
   "pygments_lexer": "ipython2",
   "version": "2.7.6"
  }
 },
 "nbformat": 4,
 "nbformat_minor": 0
}
