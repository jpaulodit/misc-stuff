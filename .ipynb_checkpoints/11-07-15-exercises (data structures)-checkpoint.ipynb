{
 "cells": [
  {
   "cell_type": "code",
   "execution_count": 1,
   "metadata": {
    "collapsed": true
   },
   "outputs": [],
   "source": [
    "# A node class\n",
    "\n",
    "class Node():\n",
    "    \n",
    "    def __init__(self, cargo=None, next=None):\n",
    "        self.cargo = cargo\n",
    "        self.next = next\n",
    "        \n",
    "    def __str__(self):\n",
    "        return str(self.cargo)"
   ]
  },
  {
   "cell_type": "code",
   "execution_count": 3,
   "metadata": {
    "collapsed": false
   },
   "outputs": [],
   "source": [
    "node1 = Node(1)\n",
    "node2 = Node(2)\n",
    "node3 = Node(3)"
   ]
  },
  {
   "cell_type": "code",
   "execution_count": 4,
   "metadata": {
    "collapsed": true
   },
   "outputs": [],
   "source": [
    "node1.next = node2\n",
    "node2.next = node3"
   ]
  },
  {
   "cell_type": "code",
   "execution_count": 7,
   "metadata": {
    "collapsed": false
   },
   "outputs": [
    {
     "name": "stdout",
     "output_type": "stream",
     "text": [
      "2\n",
      "3\n"
     ]
    }
   ],
   "source": [
    "# print value of list starting from passed in node\n",
    "\n",
    "def print_list(node):\n",
    "    while node:\n",
    "        print node\n",
    "        node = node.next\n",
    "        \n",
    "print_list(node2)"
   ]
  },
  {
   "cell_type": "code",
   "execution_count": 12,
   "metadata": {
    "collapsed": false
   },
   "outputs": [
    {
     "name": "stdout",
     "output_type": "stream",
     "text": [
      "2\n",
      "3\n",
      "4\n",
      "4\n"
     ]
    }
   ],
   "source": [
    "# append to tail. user pass in value and a node\n",
    "\n",
    "def appendToTail(node, cargo):\n",
    "    newNode = Node(cargo)    \n",
    "    while 1:        \n",
    "        if not node.next:\n",
    "            break\n",
    "        else:\n",
    "            node = node.next\n",
    "    node.next = newNode\n",
    "            \n",
    "appendToTail(node1, 4)\n",
    "print_list(node2)"
   ]
  },
  {
   "cell_type": "code",
   "execution_count": 16,
   "metadata": {
    "collapsed": false
   },
   "outputs": [],
   "source": [
    "def printBackwards(node):\n",
    "\n",
    "    if node.next is None:\n",
    "        print node\n",
    "        return\n",
    "\n",
    "    head = node\n",
    "    tail = node.next\n",
    "    printBackwards(tail)\n",
    "    print head"
   ]
  },
  {
   "cell_type": "code",
   "execution_count": 17,
   "metadata": {
    "collapsed": false
   },
   "outputs": [
    {
     "name": "stdout",
     "output_type": "stream",
     "text": [
      "4\n",
      "4\n",
      "3\n",
      "2\n",
      "1\n"
     ]
    }
   ],
   "source": [
    "printBackwards(node1)"
   ]
  },
  {
   "cell_type": "code",
   "execution_count": 18,
   "metadata": {
    "collapsed": false
   },
   "outputs": [
    {
     "name": "stdout",
     "output_type": "stream",
     "text": [
      "1\n",
      "2\n",
      "3\n",
      "4\n",
      "4\n"
     ]
    }
   ],
   "source": [
    "print_list(node1)"
   ]
  },
  {
   "cell_type": "code",
   "execution_count": 46,
   "metadata": {
    "collapsed": false
   },
   "outputs": [],
   "source": [
    "class LinkedList:\n",
    "    def __init__(self):\n",
    "        self.length = 0\n",
    "        self.head = None\n",
    "    \n",
    "    def print_list(self):\n",
    "        print \"[\"\n",
    "        if self.head != None:\n",
    "            self.head.print_list()\n",
    "        print \"]\"\n",
    "    \n",
    "    def print_backward(self):\n",
    "        print \"[\"\n",
    "        if self.head != None:\n",
    "            self.head.print_backward()\n",
    "        print \"]\"\n",
    "        \n",
    "    def appendToTail(self, cargo):\n",
    "        newNode = Node(cargo)\n",
    "        current = self.head\n",
    "        while current.next != None:        \n",
    "            current = current.next\n",
    "        current.next = newNode\n",
    "\n",
    "    def addFirst(self, cargo):\n",
    "        node = Node(cargo)\n",
    "        node.next = self.head\n",
    "        self.head = node\n",
    "        self.length = self.length + 1\n",
    "        \n",
    "    def deleteNode(self, cargo):\n",
    "        # traverse through the list. delete the first node whoes cargo value matches.\n",
    "        node = self.head\n",
    "        prev = None\n",
    "        while node:\n",
    "            if node.cargo == cargo:\n",
    "                if prev is None:\n",
    "                    self.head = node.next\n",
    "                else:                    \n",
    "                    prev.next = node.next\n",
    "            prev = node\n",
    "            node = node.next\n",
    "\n",
    "class Node:\n",
    "    def __init__(self, cargo=None, next=None):\n",
    "        self.cargo = cargo\n",
    "        self.next = next\n",
    "        \n",
    "    def __str__(self):\n",
    "        return str(self.cargo)\n",
    "    \n",
    "    def print_backward(self):\n",
    "        if self.next != None:\n",
    "            tail = self.next\n",
    "            tail.print_backward()\n",
    "        print self.cargo\n",
    "        \n",
    "    def print_list(self):\n",
    "        node = self\n",
    "        while node:\n",
    "            print node\n",
    "            node = node.next"
   ]
  },
  {
   "cell_type": "code",
   "execution_count": 55,
   "metadata": {
    "collapsed": true
   },
   "outputs": [],
   "source": [
    "all_1 = LinkedList()"
   ]
  },
  {
   "cell_type": "code",
   "execution_count": 56,
   "metadata": {
    "collapsed": false
   },
   "outputs": [],
   "source": [
    "all_1.addFirst(1)\n",
    "all_1.appendToTail(2)\n",
    "all_1.appendToTail(-1)"
   ]
  },
  {
   "cell_type": "code",
   "execution_count": 57,
   "metadata": {
    "collapsed": false
   },
   "outputs": [
    {
     "name": "stdout",
     "output_type": "stream",
     "text": [
      "[\n",
      "1\n",
      "2\n",
      "-1\n",
      "]\n",
      "[\n",
      "1\n",
      "-1\n",
      "]\n"
     ]
    }
   ],
   "source": [
    "#all_1.print_backward()\n",
    "\n",
    "\n",
    "all_1.print_list()\n",
    "\n",
    "all_1.deleteNode(2)\n",
    "\n",
    "all_1.print_list()"
   ]
  },
  {
   "cell_type": "code",
   "execution_count": null,
   "metadata": {
    "collapsed": true
   },
   "outputs": [],
   "source": []
  }
 ],
 "metadata": {
  "kernelspec": {
   "display_name": "Python 2",
   "language": "python",
   "name": "python2"
  },
  "language_info": {
   "codemirror_mode": {
    "name": "ipython",
    "version": 2
   },
   "file_extension": ".py",
   "mimetype": "text/x-python",
   "name": "python",
   "nbconvert_exporter": "python",
   "pygments_lexer": "ipython2",
   "version": "2.7.6"
  }
 },
 "nbformat": 4,
 "nbformat_minor": 0
}
