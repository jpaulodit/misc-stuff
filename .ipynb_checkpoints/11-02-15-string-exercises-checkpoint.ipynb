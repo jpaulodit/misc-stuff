{
 "cells": [
  {
   "cell_type": "code",
   "execution_count": 6,
   "metadata": {
    "collapsed": false
   },
   "outputs": [
    {
     "name": "stdout",
     "output_type": "stream",
     "text": [
      "['asdf', 'fjdk;', 'afed,', 'fjek,asdf,', 'foo']\n",
      "['asdf', 'fjdk', 'afed', 'fjek', 'asdf', 'foo']\n",
      "['asdf fjdk', ';', ' afed, fjek,asdf, foo']\n"
     ]
    }
   ],
   "source": [
    "# using regular expression re to split a string\n",
    "\n",
    "import re\n",
    "\n",
    "line = 'asdf fjdk; afed, fjek,asdf, foo'\n",
    "\n",
    "print line.split()\n",
    "\n",
    "print re.split(r'[;\\s,]\\s*', line)\n",
    "\n",
    "print re.split(r'(;)', line)  # if u use parenthesis, you will also include the matched text as part of result. see \";\""
   ]
  },
  {
   "cell_type": "code",
   "execution_count": 14,
   "metadata": {
    "collapsed": false
   },
   "outputs": [
    {
     "name": "stdout",
     "output_type": "stream",
     "text": [
      "False\n",
      "True\n",
      "True\n"
     ]
    },
    {
     "data": {
      "text/plain": [
       "['FOO.C', 'BAR.PY', 'SPAM.C', 'SPAM.H']"
      ]
     },
     "execution_count": 14,
     "metadata": {},
     "output_type": "execute_result"
    }
   ],
   "source": [
    "# examples of using \"startswith\" and \"endswith\"\n",
    "\n",
    "fname = 'Hello.txt'\n",
    "\n",
    "print fname.startswith('txt')\n",
    "\n",
    "print fname.endswith('txt')\n",
    "\n",
    "print fname.startswith(('txt', 'png', 'Hel')) # accepts tuple as parameter for multiple options\n",
    "\n",
    "eg = [ 'Makefile', 'foo.c', 'bar.py', 'spam.c', 'spam.h' ]\n",
    "\n",
    "[name.upper() for name in eg if name.endswith(('c', 'py', 'h'))]"
   ]
  },
  {
   "cell_type": "code",
   "execution_count": 33,
   "metadata": {
    "collapsed": false
   },
   "outputs": [
    {
     "name": "stdout",
     "output_type": "stream",
     "text": [
      "None\n",
      "<_sre.SRE_Match object at 0xb4b29288>\n",
      "<_sre.SRE_Match object at 0xb4b29218>\n",
      "['l', 'l']\n",
      "11/27/2015\n",
      "11\n",
      "27\n",
      "2015\n",
      "[('11', '27', '2012'), ('3', '13', '2013')]\n"
     ]
    }
   ],
   "source": [
    "# regular expressions --> finding substrings\n",
    "\n",
    "astring = 'hello'\n",
    "\n",
    "print re.match('a', astring) # match only works at the start of the string\n",
    "print re.match('h', astring)\n",
    "\n",
    "print re.search('l', astring) # looks at all parts of the string\n",
    "\n",
    "print re.findall('l', astring) # returns all occurances of match\n",
    "\n",
    "datepat = re.compile(r'(\\d+)/(\\d+)/(\\d+)')\n",
    "\n",
    "m = datepat.match('11/27/2015')\n",
    "\n",
    "print m.group(0)\n",
    "print m.group(1)\n",
    "print m.group(2)\n",
    "print m.group(3)\n",
    "\n",
    "text = 'Today is 11/27/2012. PyCon starts 3/13/2013.'\n",
    "result = datepat.findall(text)\n",
    "print result"
   ]
  },
  {
   "cell_type": "code",
   "execution_count": 36,
   "metadata": {
    "collapsed": false
   },
   "outputs": [
    {
     "name": "stdout",
     "output_type": "stream",
     "text": [
      "Today is 2012-11-27. PyCon starts 2013-3-13.\n"
     ]
    }
   ],
   "source": [
    "# regular expression --> search and replace\n",
    "\n",
    "text = 'Today is 11/27/2012. PyCon starts 3/13/2013.'\n",
    "\n",
    "datepat = re.compile(r'(\\d+)/(\\d+)/(\\d+)')\n",
    "\n",
    "result = datepat.sub(r'\\3-\\1-\\2', text)\n",
    "\n",
    "print result"
   ]
  },
  {
   "cell_type": "code",
   "execution_count": 49,
   "metadata": {
    "collapsed": false
   },
   "outputs": [],
   "source": [
    "# normalizing unicode text to a standard representation"
   ]
  },
  {
   "cell_type": "code",
   "execution_count": 67,
   "metadata": {
    "collapsed": false
   },
   "outputs": [
    {
     "name": "stdout",
     "output_type": "stream",
     "text": [
      "hello world\n",
      "hello world \n",
      "\n",
      " hello world\n",
      " hello world \n",
      "\n",
      "hello     world    \n",
      "\n",
      " hello world \n"
     ]
    }
   ],
   "source": [
    "# stripping unwanted characters from strings. strip() only works leading and trailing. NOT middle.\n",
    "\n",
    "s = ' hello world \\n'\n",
    "\n",
    "print s.strip()\n",
    "print s.lstrip()\n",
    "print s.rstrip()\n",
    "\n",
    "t = '--hello--*world'\n",
    "print s.strip('-*')     # strip more than 1 character\n",
    "\n",
    "y = '  hello     world    \\n'\n",
    "print y.strip(' ')\n",
    "print re.sub(r'\\s+', ' ', y) # note '+'. cannot use '*' because that mean 0 or more which in this case include no spaces."
   ]
  },
  {
   "cell_type": "code",
   "execution_count": 75,
   "metadata": {
    "collapsed": false
   },
   "outputs": [
    {
     "name": "stdout",
     "output_type": "stream",
     "text": [
      "Is Chicago Not Chicago?\n",
      "Is,Chicago,Not,Chicago?\n",
      "world\n"
     ]
    }
   ],
   "source": [
    "# Combining and concatenating strings\n",
    "\n",
    "parts = ['Is', 'Chicago', 'Not', 'Chicago?']\n",
    "\n",
    "print ' '.join(parts)\n",
    "\n",
    "print ','.join(parts)\n",
    "\n",
    "# TIP: When you can choose between join() and '+', pick join() because it is more efficient.\n",
    "#      Adding two string objects with  + creates a new string object, with the contents of its operands joined.\n",
    "a = 'hello'\n",
    "b = 'world'\n",
    "print ''.join(b)"
   ]
  },
  {
   "cell_type": "code",
   "execution_count": 81,
   "metadata": {
    "collapsed": false
   },
   "outputs": [
    {
     "ename": "SyntaxError",
     "evalue": "invalid syntax (<ipython-input-81-1e8c5ba733d5>, line 9)",
     "output_type": "error",
     "traceback": [
      "\u001b[1;36m  File \u001b[1;32m\"<ipython-input-81-1e8c5ba733d5>\"\u001b[1;36m, line \u001b[1;32m9\u001b[0m\n\u001b[1;33m    print(a, b, c, sep=':')\u001b[0m\n\u001b[1;37m                      ^\u001b[0m\n\u001b[1;31mSyntaxError\u001b[0m\u001b[1;31m:\u001b[0m invalid syntax\n"
     ]
    }
   ],
   "source": [
    "# More string concat\n",
    "\n",
    "a = 'apple'\n",
    "b = 'orange'\n",
    "c = 'banana'\n",
    "\n",
    "print(a + ':' + b + ':' + c) # Ugly\n",
    "\n",
    "print(':'.join([a, b, c])) # Still ugly\n",
    "\n",
    "print(a, b, c, sep=':')"
   ]
  },
  {
   "cell_type": "code",
   "execution_count": 2,
   "metadata": {
    "collapsed": false
   },
   "outputs": [
    {
     "data": {
      "text/plain": [
       "'apple orange banana lemon'"
      ]
     },
     "execution_count": 2,
     "metadata": {},
     "output_type": "execute_result"
    }
   ],
   "source": [
    "# More interesting string concat. Consider the following\n",
    "\n",
    "# the generator function returns pieces of string one at a time.\n",
    "def sample():\n",
    "    yield 'apple'\n",
    "    yield 'orange'\n",
    "    yield 'banana'\n",
    "    yield 'lemon'\n",
    "\n",
    "' '.join(sample())"
   ]
  },
  {
   "cell_type": "code",
   "execution_count": null,
   "metadata": {
    "collapsed": true
   },
   "outputs": [],
   "source": []
  }
 ],
 "metadata": {
  "kernelspec": {
   "display_name": "Python 2",
   "language": "python",
   "name": "python2"
  },
  "language_info": {
   "codemirror_mode": {
    "name": "ipython",
    "version": 2
   },
   "file_extension": ".py",
   "mimetype": "text/x-python",
   "name": "python",
   "nbconvert_exporter": "python",
   "pygments_lexer": "ipython2",
   "version": "2.7.6"
  }
 },
 "nbformat": 4,
 "nbformat_minor": 0
}
