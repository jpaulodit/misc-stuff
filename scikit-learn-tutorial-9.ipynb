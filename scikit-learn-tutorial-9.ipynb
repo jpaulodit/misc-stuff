{
 "metadata": {
  "name": "",
  "signature": "sha256:f566b86502caded1f7a3a4452310c2a4392c722ed0ddf9fe130c77393f42ba3f"
 },
 "nbformat": 3,
 "nbformat_minor": 0,
 "worksheets": [
  {
   "cells": [
    {
     "cell_type": "code",
     "collapsed": false,
     "input": [
      "import pandas as pd\n",
      "\n",
      "url = 'https://archive.ics.uci.edu/ml/machine-learning-databases/pima-indians-diabetes/pima-indians-diabetes.data'\n",
      "col_names = ['pregnant', 'glucose', 'bp', 'skin', 'insulin', 'bmi', 'pedigree', 'age', 'label']\n",
      "pima = pd.read_csv(url, header=None, names=col_names)"
     ],
     "language": "python",
     "metadata": {},
     "outputs": [],
     "prompt_number": 1
    },
    {
     "cell_type": "code",
     "collapsed": false,
     "input": [
      "print pima.head()"
     ],
     "language": "python",
     "metadata": {},
     "outputs": [
      {
       "output_type": "stream",
       "stream": "stdout",
       "text": [
        "   pregnant  glucose  bp  skin  insulin   bmi  pedigree  age  label\n",
        "0         6      148  72    35        0  33.6     0.627   50      1\n",
        "1         1       85  66    29        0  26.6     0.351   31      0\n",
        "2         8      183  64     0        0  23.3     0.672   32      1\n",
        "3         1       89  66    23       94  28.1     0.167   21      0\n",
        "4         0      137  40    35      168  43.1     2.288   33      1\n"
       ]
      }
     ],
     "prompt_number": 3
    },
    {
     "cell_type": "code",
     "collapsed": false,
     "input": [
      "feature_cols = ['pregnant', 'insulin', 'bmi', 'age']\n",
      "X = pima[feature_cols]\n",
      "y = pima['label']"
     ],
     "language": "python",
     "metadata": {},
     "outputs": [],
     "prompt_number": 22
    },
    {
     "cell_type": "code",
     "collapsed": false,
     "input": [
      "from sklearn.cross_validation import train_test_split\n",
      "\n",
      "X_train, X_test, y_train, y_test = train_test_split(X, y, random_state=0)"
     ],
     "language": "python",
     "metadata": {},
     "outputs": [],
     "prompt_number": 23
    },
    {
     "cell_type": "code",
     "collapsed": false,
     "input": [
      "# train using logistic regression modal\n",
      "from sklearn.linear_model import LogisticRegression\n",
      "logReg = LogisticRegression()\n",
      "logReg.fit(X_train, y_train)"
     ],
     "language": "python",
     "metadata": {},
     "outputs": [
      {
       "metadata": {},
       "output_type": "pyout",
       "prompt_number": 24,
       "text": [
        "LogisticRegression(C=1.0, class_weight=None, dual=False, fit_intercept=True,\n",
        "          intercept_scaling=1, penalty='l2', random_state=None, tol=0.0001)"
       ]
      }
     ],
     "prompt_number": 24
    },
    {
     "cell_type": "code",
     "collapsed": false,
     "input": [
      "y_pred_class = logReg.predict(X_test)"
     ],
     "language": "python",
     "metadata": {},
     "outputs": [],
     "prompt_number": 25
    },
    {
     "cell_type": "code",
     "collapsed": false,
     "input": [
      "# calculate the accuracy\n",
      "from sklearn.metrics import accuracy_score\n",
      "\n",
      "print accuracy_score(y_test, y_pred_class)"
     ],
     "language": "python",
     "metadata": {},
     "outputs": [
      {
       "output_type": "stream",
       "stream": "stdout",
       "text": [
        "0.692708333333\n"
       ]
      }
     ],
     "prompt_number": 26
    },
    {
     "cell_type": "code",
     "collapsed": false,
     "input": [
      "# determine NULL ACCURACY: accuracy that could be achieved by always predicting the most frequent class\n",
      "\n",
      "num_1s = sum(y_test)\n",
      "print num_1s\n",
      "\n",
      "num_0s = len(y_test) - num_1s\n",
      "print num_0s"
     ],
     "language": "python",
     "metadata": {},
     "outputs": [
      {
       "output_type": "stream",
       "stream": "stdout",
       "text": [
        "62\n",
        "130\n"
       ]
      }
     ],
     "prompt_number": 32
    },
    {
     "cell_type": "code",
     "collapsed": false,
     "input": [
      "# percentage of ones\n",
      "y_test.mean()"
     ],
     "language": "python",
     "metadata": {},
     "outputs": [
      {
       "metadata": {},
       "output_type": "pyout",
       "prompt_number": 33,
       "text": [
        "0.32291666666666669"
       ]
      }
     ],
     "prompt_number": 33
    },
    {
     "cell_type": "code",
     "collapsed": false,
     "input": [
      "# percentage of zeros\n",
      "1 - y_test.mean()"
     ],
     "language": "python",
     "metadata": {},
     "outputs": [
      {
       "metadata": {},
       "output_type": "pyout",
       "prompt_number": 34,
       "text": [
        "0.67708333333333326"
       ]
      }
     ],
     "prompt_number": 34
    },
    {
     "cell_type": "code",
     "collapsed": false,
     "input": [
      "# calculate the null accuracy ( this only works for binary classification problem)\n",
      "max(y_test.mean(), 1 - y_test.mean())\n",
      "\n",
      "# given that always picking 0 give us 68%, our logistic accuracy percentage of 69% doesn't look very good anymore."
     ],
     "language": "python",
     "metadata": {},
     "outputs": [
      {
       "metadata": {},
       "output_type": "pyout",
       "prompt_number": 36,
       "text": [
        "0.67708333333333326"
       ]
      }
     ],
     "prompt_number": 36
    },
    {
     "cell_type": "code",
     "collapsed": false,
     "input": [
      "# calcuating the null accuracy for (multi-class classification problem)\n",
      "\n",
      "pd.value_counts(y_test).head(1) / len(y_test)"
     ],
     "language": "python",
     "metadata": {},
     "outputs": [
      {
       "metadata": {},
       "output_type": "pyout",
       "prompt_number": 47,
       "text": [
        "0    0.677083\n",
        "dtype: float64"
       ]
      }
     ],
     "prompt_number": 47
    },
    {
     "cell_type": "code",
     "collapsed": false,
     "input": [
      "print 'True:' , y_test[0 : 25]\n",
      "print 'Pred:' , y_pred_class[0 : 25]\n",
      "\n",
      "# We can see that the model usually predicts correctly if the true value was 0."
     ],
     "language": "python",
     "metadata": {},
     "outputs": [
      {
       "output_type": "stream",
       "stream": "stdout",
       "text": [
        "True: [1 0 0 1 0 0 1 1 0 0 1 1 0 0 0 0 1 0 0 0 1 1 0 0 0]\n",
        "Pred: [0 0 0 0 0 0 0 1 0 1 0 1 0 0 0 0 0 0 0 0 0 0 0 0 0]\n"
       ]
      }
     ],
     "prompt_number": 52
    },
    {
     "cell_type": "markdown",
     "metadata": {},
     "source": [
      "# Confusion Matrix"
     ]
    },
    {
     "cell_type": "code",
     "collapsed": false,
     "input": [
      "import sklearn.metrics as metrics\n",
      "print metrics.confusion_matrix(y_test, y_pred_class)"
     ],
     "language": "python",
     "metadata": {},
     "outputs": [
      {
       "output_type": "stream",
       "stream": "stdout",
       "text": [
        "[[118  12]\n",
        " [ 47  15]]\n"
       ]
      }
     ],
     "prompt_number": 58
    },
    {
     "cell_type": "code",
     "collapsed": false,
     "input": [
      "confusion_matrix = metrics.confusion_matrix(y_test, y_pred_class)"
     ],
     "language": "python",
     "metadata": {},
     "outputs": [],
     "prompt_number": 59
    },
    {
     "cell_type": "code",
     "collapsed": false,
     "input": [
      "TP = confusion_matrix[1,1]\n",
      "TN = confusion_matrix[0,0]\n",
      "FP = confusion_matrix[0,1]\n",
      "FN = confusion_matrix[1,0]\n",
      "\n",
      "print TP\n",
      "print TN\n",
      "print FP\n",
      "print FN"
     ],
     "language": "python",
     "metadata": {},
     "outputs": [
      {
       "output_type": "stream",
       "stream": "stdout",
       "text": [
        "15\n",
        "118\n",
        "12\n",
        "47\n"
       ]
      }
     ],
     "prompt_number": 67
    },
    {
     "cell_type": "code",
     "collapsed": false,
     "input": [
      "# Confusion matrix cannot be used to select a model, but metrics derived from the matrix can be used to select.\n",
      "# Classification Accuracy: How often is the classifier correct\n",
      "\n",
      "print (TP + TN) / float(TP + TN + FP + FN)\n",
      "\n",
      "print metrics.accuracy_score(y_test, y_pred_class)"
     ],
     "language": "python",
     "metadata": {},
     "outputs": [
      {
       "output_type": "stream",
       "stream": "stdout",
       "text": [
        "0.692708333333\n",
        "0.692708333333\n"
       ]
      }
     ],
     "prompt_number": 68
    },
    {
     "cell_type": "code",
     "collapsed": false,
     "input": [
      "# Classification Error: How often is the classifier incorrect\n",
      "\n",
      "print (FP + FN) / float(TP + TN + FP + FN)\n",
      "\n",
      "print 1 - metrics.accuracy_score(y_test, y_pred_class)"
     ],
     "language": "python",
     "metadata": {},
     "outputs": [
      {
       "output_type": "stream",
       "stream": "stdout",
       "text": [
        "0.307291666667\n",
        "0.307291666667\n"
       ]
      }
     ],
     "prompt_number": 69
    },
    {
     "cell_type": "code",
     "collapsed": false,
     "input": [
      "# Sensitivity: What the actual value is positive, how often is the prediction correct\n",
      "print TP / float( TP + FN)\n",
      "\n",
      "print metrics.recall_score(y_test, y_pred_class)"
     ],
     "language": "python",
     "metadata": {},
     "outputs": [
      {
       "output_type": "stream",
       "stream": "stdout",
       "text": [
        "0.241935483871\n",
        "0.241935483871"
       ]
      },
      {
       "output_type": "stream",
       "stream": "stdout",
       "text": [
        "\n"
       ]
      }
     ],
     "prompt_number": 71
    },
    {
     "cell_type": "code",
     "collapsed": false,
     "input": [
      "# Specificity: When the actual value is negative, how often is the prediction correct\n",
      "print TN / float( TN + FP)\n",
      "\n",
      "# Note : no scikit-learn function to calculate this for us"
     ],
     "language": "python",
     "metadata": {},
     "outputs": [
      {
       "output_type": "stream",
       "stream": "stdout",
       "text": [
        "0.907692307692\n"
       ]
      }
     ],
     "prompt_number": 72
    },
    {
     "cell_type": "code",
     "collapsed": false,
     "input": [
      "# False positive Rate: When the actual value is negative, how often is the prediction incorrect\n",
      "\n",
      "print FP / float (TN + FP)"
     ],
     "language": "python",
     "metadata": {},
     "outputs": [
      {
       "output_type": "stream",
       "stream": "stdout",
       "text": [
        "0.0923076923077\n"
       ]
      }
     ],
     "prompt_number": 73
    },
    {
     "cell_type": "code",
     "collapsed": false,
     "input": [
      "# Precision:  When a positive value is predicted, how often is the prediction correct\n",
      "print TP / float (TP + FP)\n",
      "\n",
      "print metrics.precision_score(y_test, y_pred_class)"
     ],
     "language": "python",
     "metadata": {},
     "outputs": [
      {
       "output_type": "stream",
       "stream": "stdout",
       "text": [
        "0.555555555556\n",
        "0.555555555556"
       ]
      },
      {
       "output_type": "stream",
       "stream": "stdout",
       "text": [
        "\n"
       ]
      }
     ],
     "prompt_number": 75
    },
    {
     "cell_type": "code",
     "collapsed": false,
     "input": [
      "# DEPENDING ON THE PROBLEM YOU ARE TRYING TO SOLVE, YOU WILL HAVE TO DECIDE WHICH OF THE MATRICES ARE IMPORTANT TO YOU\n",
      "# AND WHICH ONE YOU'RE TRYING TO SOLVE."
     ],
     "language": "python",
     "metadata": {},
     "outputs": [],
     "prompt_number": 76
    },
    {
     "cell_type": "code",
     "collapsed": false,
     "input": [
      "# print first 10 predicted responses\n",
      "\n",
      "logReg.predict(X_test)[0:10]"
     ],
     "language": "python",
     "metadata": {},
     "outputs": [
      {
       "metadata": {},
       "output_type": "pyout",
       "prompt_number": 78,
       "text": [
        "array([0, 0, 0, 0, 0, 0, 0, 1, 0, 1])"
       ]
      }
     ],
     "prompt_number": 78
    },
    {
     "cell_type": "code",
     "collapsed": false,
     "input": [
      "# print the first 10 predicted probabilities of class membership\n",
      "logReg.predict_proba(X_test)[0:10]"
     ],
     "language": "python",
     "metadata": {},
     "outputs": [
      {
       "metadata": {},
       "output_type": "pyout",
       "prompt_number": 80,
       "text": [
        "array([[ 0.63247571,  0.36752429],\n",
        "       [ 0.71643656,  0.28356344],\n",
        "       [ 0.71104114,  0.28895886],\n",
        "       [ 0.5858938 ,  0.4141062 ],\n",
        "       [ 0.84103973,  0.15896027],\n",
        "       [ 0.82934844,  0.17065156],\n",
        "       [ 0.50110974,  0.49889026],\n",
        "       [ 0.48658459,  0.51341541],\n",
        "       [ 0.72321388,  0.27678612],\n",
        "       [ 0.32810562,  0.67189438]])"
       ]
      }
     ],
     "prompt_number": 80
    },
    {
     "cell_type": "code",
     "collapsed": false,
     "input": [
      "logReg.predict_proba(X_test)[0:10, 1]"
     ],
     "language": "python",
     "metadata": {},
     "outputs": [
      {
       "metadata": {},
       "output_type": "pyout",
       "prompt_number": 82,
       "text": [
        "array([ 0.36752429,  0.28356344,  0.28895886,  0.4141062 ,  0.15896027,\n",
        "        0.17065156,  0.49889026,  0.51341541,  0.27678612,  0.67189438])"
       ]
      }
     ],
     "prompt_number": 82
    },
    {
     "cell_type": "code",
     "collapsed": false,
     "input": [
      "# store the predicted probability for class 1\n",
      "y_pred_prod = logReg.predict_proba(X_test)[:, 1]"
     ],
     "language": "python",
     "metadata": {},
     "outputs": [],
     "prompt_number": 83
    },
    {
     "cell_type": "code",
     "collapsed": false,
     "input": [
      "# allow plots to appear in the notebook\n",
      "%matplotlib inline\n",
      "import matplotlib.pyplot as plt\n",
      "plt.rcParams['font.size'] = 14"
     ],
     "language": "python",
     "metadata": {},
     "outputs": [],
     "prompt_number": 87
    },
    {
     "cell_type": "code",
     "collapsed": false,
     "input": [
      "# histogram of predicted probabilities\n",
      "plt.hist(y_pred_prod, bins=8)\n",
      "plt.xlabel('Predicated probability of diabetes')\n",
      "plt.ylabel('Frequency')\n",
      "plt.title('Histogram of predicted probability')\n",
      "plt.xlim(0, 1)"
     ],
     "language": "python",
     "metadata": {},
     "outputs": [
      {
       "metadata": {},
       "output_type": "pyout",
       "prompt_number": 91,
       "text": [
        "(0, 1)"
       ]
      },
      {
       "metadata": {},
       "output_type": "display_data",
       "png": "[encoded data removed]",
       "text": [
        "<matplotlib.figure.Figure at 0x7f3b940d5450>"
       ]
      }
     ],
     "prompt_number": 91
    },
    {
     "cell_type": "code",
     "collapsed": false,
     "input": [
      "# The default threshold for something being classified as 1 is 0.5. We can see from the histogram that few samples have\n",
      "# a high probability of being classified as 1."
     ],
     "language": "python",
     "metadata": {},
     "outputs": [],
     "prompt_number": 92
    },
    {
     "cell_type": "code",
     "collapsed": false,
     "input": [
      "# Decrease threshold in order to increase the sensitivity"
     ],
     "language": "python",
     "metadata": {},
     "outputs": [],
     "prompt_number": 93
    },
    {
     "cell_type": "code",
     "collapsed": false,
     "input": [
      "from sklearn.preprocessing import binarize\n",
      "\n",
      "y_pred_class = binarize(y_pred_prod, threshold=0.3)\n",
      "\n",
      "print y_pred_class[0:10]"
     ],
     "language": "python",
     "metadata": {},
     "outputs": [
      {
       "output_type": "stream",
       "stream": "stdout",
       "text": [
        "[ 1.  0.  0.  1.  0.  0.  1.  1.  0.  1.]\n"
       ]
      }
     ],
     "prompt_number": 101
    },
    {
     "cell_type": "code",
     "collapsed": false,
     "input": [
      "print confusion_matrix"
     ],
     "language": "python",
     "metadata": {},
     "outputs": [
      {
       "output_type": "stream",
       "stream": "stdout",
       "text": [
        "[[118  12]\n",
        " [ 47  15]]\n"
       ]
      }
     ],
     "prompt_number": 102
    },
    {
     "cell_type": "code",
     "collapsed": false,
     "input": [
      "print metrics.confusion_matrix(y_test, y_pred_class)"
     ],
     "language": "python",
     "metadata": {},
     "outputs": [
      {
       "output_type": "stream",
       "stream": "stdout",
       "text": [
        "[[80 50]\n",
        " [16 46]]\n"
       ]
      }
     ],
     "prompt_number": 103
    },
    {
     "cell_type": "code",
     "collapsed": false,
     "input": [
      "# re-calculate new sensitivity\n",
      "print metrics.recall_score(y_test, y_pred_class)"
     ],
     "language": "python",
     "metadata": {},
     "outputs": [
      {
       "output_type": "stream",
       "stream": "stdout",
       "text": [
        "0.741935483871\n"
       ]
      }
     ],
     "prompt_number": 104
    },
    {
     "cell_type": "code",
     "collapsed": false,
     "input": [
      "# re-calculate new specificity\n",
      "print 80 / float( 80 + 50)"
     ],
     "language": "python",
     "metadata": {},
     "outputs": [
      {
       "output_type": "stream",
       "stream": "stdout",
       "text": [
        "0.615384615385\n"
       ]
      }
     ],
     "prompt_number": 105
    },
    {
     "cell_type": "code",
     "collapsed": false,
     "input": [],
     "language": "python",
     "metadata": {},
     "outputs": []
    }
   ],
   "metadata": {}
  }
 ]
}