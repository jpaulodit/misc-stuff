{
 "cells": [
  {
   "cell_type": "markdown",
   "metadata": {},
   "source": [
    "Given two integers n and k, return all possible combinations of k numbers out of 1 ... n.\n",
    "\n",
    "For example,\n",
    "If n = 4 and k = 2, a solution is:\n",
    "\n",
    "[\n",
    "  [2,4],\n",
    "  [3,4],\n",
    "  [2,3],\n",
    "  [1,2],\n",
    "  [1,3],\n",
    "  [1,4],\n",
    "]"
   ]
  },
  {
   "cell_type": "code",
   "execution_count": 1,
   "metadata": {
    "collapsed": true
   },
   "outputs": [],
   "source": [
    "class Solution(object):\n",
    "    \n",
    "    # n - the number 1 ... n\n",
    "    # k - number of numbers in the combination\n",
    "    # start_num - the first number to start the \"combination tuple\" with\n",
    "\n",
    "    def combinations(self, n, k, start_num):\n",
    "    \n",
    "        # base cases\n",
    "\n",
    "        if n - start_num + 1 < k: \n",
    "            return []\n",
    "\n",
    "        if n == k:\n",
    "            return [[x for x in range(1, n+1)]]\n",
    "            \n",
    "        if k == 1:\n",
    "            return [[x] for x in range(start_num, n+1)]\n",
    "            \n",
    "        if start_num == n:\n",
    "            result = [[start_num,]]\n",
    "            return result\n",
    "        \n",
    "        result = []\n",
    "        for i in range(start_num, n+1):\n",
    "            combs = self.combinations(n, k-1, i+1)\n",
    "            for comb in combs:\n",
    "                result.append([i,] + comb)\n",
    "        \n",
    "        return result\n",
    "\n",
    "    \n",
    "    def combine(self, n, k):\n",
    "        \"\"\"\n",
    "        :type n: int\n",
    "        :type k: int\n",
    "        :rtype: List[List[int]]\n",
    "        \"\"\"\n",
    "        \n",
    "        return self.combinations(n, k, 1)"
   ]
  },
  {
   "cell_type": "code",
   "execution_count": 3,
   "metadata": {
    "collapsed": false,
    "scrolled": true
   },
   "outputs": [
    {
     "name": "stdout",
     "output_type": "stream",
     "text": [
      "[[1, 2], [1, 3], [1, 4], [2, 3], [2, 4], [3, 4]]\n"
     ]
    }
   ],
   "source": [
    "soln = Solution()\n",
    "\n",
    "print(soln.combine(n=4, k=2))"
   ]
  }
 ],
 "metadata": {
  "kernelspec": {
   "display_name": "Python 2",
   "language": "python",
   "name": "python2"
  },
  "language_info": {
   "codemirror_mode": {
    "name": "ipython",
    "version": 2
   },
   "file_extension": ".py",
   "mimetype": "text/x-python",
   "name": "python",
   "nbconvert_exporter": "python",
   "pygments_lexer": "ipython2",
   "version": "2.7.6"
  }
 },
 "nbformat": 4,
 "nbformat_minor": 0
}
