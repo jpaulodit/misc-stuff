{
 "cells": [
  {
   "cell_type": "markdown",
   "metadata": {},
   "source": [
    "Source : hackerrank exercise. Give N array of integers, where each val is cost. Remove each val either from far left or far right in such a way to minimize cost. As each iteration passes, the\n",
    "cost of val is multiplied by time which increases after each operation.\n",
    "https://www.hackerrank.com/companies/vmware/challenges/disaster-recovery"
   ]
  },
  {
   "cell_type": "code",
   "execution_count": null,
   "metadata": {
    "collapsed": true
   },
   "outputs": [],
   "source": [
    "# thought this sounded like a greedy problem. \n",
    "# hmm... not true actually.\n",
    "\n",
    "\"\"\"\n",
    "totalCost = 0\n",
    "front = 0\n",
    "back = N-1\n",
    "for t in range(1, N+1):\n",
    "    frontCost = D[front] * t\n",
    "    backCost = D[back] * t    \n",
    "    if frontCost > backCost:\n",
    "        totalCost += frontCost\n",
    "        front += 1\n",
    "    else:\n",
    "        totalCost += backCost\n",
    "        back -= 1\n",
    "print(totalCost)    \n",
    "\"\"\""
   ]
  },
  {
   "cell_type": "markdown",
   "metadata": {},
   "source": [
    "### Add memorization technique to DP solution."
   ]
  },
  {
   "cell_type": "code",
   "execution_count": 24,
   "metadata": {
    "collapsed": false
   },
   "outputs": [],
   "source": [
    "# let mcost(f,b,t,D) define the loss cost for the data center.\n",
    "def mCost(f, b, t, D):\n",
    "    \n",
    "    # memorization\n",
    "    if (f, b) in memo: return memo[(f, b)]\n",
    "    \n",
    "    # base cases    \n",
    "    if f == b: \n",
    "        soln = D[f]*t\n",
    "\n",
    "    elif abs(f-b) == 1:\n",
    "        \n",
    "        soln = min(\n",
    "            D[f]*t + D[b]*(t+1),\n",
    "            D[b]*t + D[f]*(t+1)\n",
    "        )\n",
    "    \n",
    "    else:\n",
    "        soln = min(\n",
    "            # take front server\n",
    "            D[f]*t + mCost(f+1, b, t+1, D),\n",
    "            # take back server\n",
    "            D[b]*t + mCost(f, b-1, t+1, D)\n",
    "        )\n",
    "    \n",
    "    memo[(f, b)] = soln\n",
    "    print(memo)\n",
    "    \n",
    "    return soln"
   ]
  },
  {
   "cell_type": "code",
   "execution_count": 25,
   "metadata": {
    "collapsed": false
   },
   "outputs": [
    {
     "name": "stdout",
     "output_type": "stream",
     "text": [
      "{(2, 3): 34}\n",
      "{(1, 2): 304, (2, 3): 34}\n",
      "{(1, 2): 304, (1, 3): 234, (2, 3): 34}\n",
      "{(1, 2): 304, (0, 1): 320, (1, 3): 234, (2, 3): 34}\n",
      "{(1, 2): 304, (0, 1): 320, (1, 3): 234, (2, 3): 34, (0, 2): 314}\n",
      "{(1, 2): 304, (0, 1): 320, (1, 3): 234, (2, 3): 34, (0, 3): 239, (0, 2): 314}\n",
      "239\n",
      "{(2, 3): 24}\n",
      "{(1, 2): 16, (2, 3): 24}\n",
      "{(1, 2): 16, (1, 3): 22, (2, 3): 24}\n",
      "{(1, 2): 16, (0, 1): 19, (1, 3): 22, (2, 3): 24}\n",
      "{(1, 2): 16, (0, 1): 19, (1, 3): 22, (2, 3): 24, (0, 2): 26}\n",
      "{(1, 2): 16, (0, 1): 19, (1, 3): 22, (2, 3): 24, (0, 3): 27, (0, 2): 26}\n",
      "27\n"
     ]
    }
   ],
   "source": [
    "# add memorization technique.\n",
    "memo = {}\n",
    "N = 4\n",
    "D = [5, 100, 1, 10]\n",
    "print(mCost(0, N-1, 1, D))\n",
    "\n",
    "memo = {}\n",
    "N = 4\n",
    "D = [5, 1, 4, 3]\n",
    "print(mCost(0, N-1, 1, D))\n"
   ]
  },
  {
   "cell_type": "markdown",
   "metadata": {},
   "source": [
    "### Bottom up approach"
   ]
  },
  {
   "cell_type": "code",
   "execution_count": 35,
   "metadata": {
    "collapsed": true
   },
   "outputs": [],
   "source": [
    "def mCost(N, D):\n",
    "    \n",
    "    # initialize 2D NxN array\n",
    "    memo = [[0 for x in range(N)] for y in range(N)]\n",
    "    \n",
    "    # note the double for loop implementation.\n",
    "    # this gives iteration of (0,0), (1,1), (2,2) ... (0,1), (1,2), (1,3) ... (0,2), (1,3) ..\n",
    "    # so we are building from bottom up information to be used later.\n",
    "    \n",
    "    for i in range(N):\n",
    "        f = 0\n",
    "        for b in range(i, N):\n",
    "            \n",
    "            time = N - abs(b-f)\n",
    "\n",
    "            if f == b:\n",
    "                memo[f][b] = time * D[f]\n",
    "            \n",
    "            elif abs(f-b) == 1:\n",
    "                memo[f][b] = min(\n",
    "                    D[f]*time + D[b]*(time+1),\n",
    "                    D[b]*time + D[f]*(time+1)\n",
    "                )\n",
    "\n",
    "            else:\n",
    "                \n",
    "                memo[f][b] = min(\n",
    "                    D[f]*time + memo[f+1][b],\n",
    "                    D[b]*time + memo[f][b-1]\n",
    "                )\n",
    "                \n",
    "            f += 1\n",
    "            \n",
    "    return memo[0][N-1]\n",
    "                "
   ]
  },
  {
   "cell_type": "code",
   "execution_count": 36,
   "metadata": {
    "collapsed": false
   },
   "outputs": [
    {
     "name": "stdout",
     "output_type": "stream",
     "text": [
      "27\n",
      "239\n"
     ]
    }
   ],
   "source": [
    "N = 4\n",
    "D = [5, 1, 4, 3]\n",
    "print(mCost(N, D))\n",
    "\n",
    "N = 4\n",
    "D = [5, 100, 1, 10]\n",
    "print(mCost(N, D))"
   ]
  }
 ],
 "metadata": {
  "kernelspec": {
   "display_name": "Python 2",
   "language": "python",
   "name": "python2"
  },
  "language_info": {
   "codemirror_mode": {
    "name": "ipython",
    "version": 2
   },
   "file_extension": ".py",
   "mimetype": "text/x-python",
   "name": "python",
   "nbconvert_exporter": "python",
   "pygments_lexer": "ipython2",
   "version": "2.7.6"
  }
 },
 "nbformat": 4,
 "nbformat_minor": 0
}
