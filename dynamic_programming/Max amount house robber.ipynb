{
 "cells": [
  {
   "cell_type": "markdown",
   "metadata": {},
   "source": [
    "You are a professional robber planning to rob houses along a street. Each house has a certain amount of money stashed, the only constraint stopping you from robbing each of them is that adjacent houses have security system connected and it will automatically contact the police if two adjacent houses were broken into on the same night.\n",
    "\n",
    "Given a list of non-negative integers representing the amount of money of each house, determine the maximum amount of money you can rob tonight without alerting the police."
   ]
  },
  {
   "cell_type": "code",
   "execution_count": 1,
   "metadata": {
    "collapsed": true
   },
   "outputs": [],
   "source": [
    "class Solution(object):\n",
    "    \n",
    "    def __init__(self):\n",
    "        self.memo = {}\n",
    "    \n",
    "    def rob(self, nums):\n",
    "        \"\"\"\n",
    "        :type nums: List[int]\n",
    "        :rtype: int\n",
    "        \"\"\"\n",
    "        N = len(nums)\n",
    "        if N > 0:\n",
    "            return self.amt(0, N, nums)\n",
    "        else:\n",
    "            return 0\n",
    "\n",
    "        \n",
    "    # let amt(i, N, nums) be the amount of money you can get from robbing houses i to end.\n",
    "    def amt(self, i, N, nums):\n",
    "        \n",
    "        \"\"\" RECURSIVE SOLUTION \n",
    "        if i in self.memo: return self.memo[i]\n",
    "            \n",
    "        # base cases\n",
    "        if i == N - 1: return nums[i]\n",
    "        \n",
    "        if i >= N:\n",
    "            return 0\n",
    "        else:\n",
    "            soln = max(\n",
    "                nums[i] + self.amt(i+2, N, nums),\n",
    "                self.amt(i+1, N, nums)\n",
    "            )\n",
    "            self.memo[i] = soln\n",
    "            return soln\n",
    "        \"\"\"          \n",
    "    \n",
    "        # BOTTOM UP SOLUTION\n",
    "        \n",
    "        memo = [[0 for x in range(N)] for y in range(N)]\n",
    "        \n",
    "        for k in range(N):\n",
    "            \n",
    "            if k == 0:\n",
    "                memo[k] = nums[k]            \n",
    "            elif k == 1:\n",
    "                memo[k] = max(nums[0], nums[1])                \n",
    "            else:                \n",
    "                memo[k] = max(nums[k] + memo[k-2],\n",
    "                              memo[k-1])\n",
    "                              \n",
    "        return memo[-1]\n",
    "        "
   ]
  },
  {
   "cell_type": "code",
   "execution_count": 4,
   "metadata": {
    "collapsed": false
   },
   "outputs": [
    {
     "name": "stdout",
     "output_type": "stream",
     "text": [
      "3\n"
     ]
    }
   ],
   "source": [
    "# Test Cases\n",
    "\n",
    "soln = Solution()\n",
    "print(soln.rob([1, 1, 2, 1]))"
   ]
  },
  {
   "cell_type": "code",
   "execution_count": null,
   "metadata": {
    "collapsed": true
   },
   "outputs": [],
   "source": []
  }
 ],
 "metadata": {
  "kernelspec": {
   "display_name": "Python 2",
   "language": "python",
   "name": "python2"
  },
  "language_info": {
   "codemirror_mode": {
    "name": "ipython",
    "version": 2
   },
   "file_extension": ".py",
   "mimetype": "text/x-python",
   "name": "python",
   "nbconvert_exporter": "python",
   "pygments_lexer": "ipython2",
   "version": "2.7.6"
  }
 },
 "nbformat": 4,
 "nbformat_minor": 0
}
