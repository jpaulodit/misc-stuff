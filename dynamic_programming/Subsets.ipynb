{
 "cells": [
  {
   "cell_type": "markdown",
   "metadata": {},
   "source": [
    "Given a set of distinct integers, nums, return all possible subsets.\n",
    "\n",
    "Note:\n",
    "Elements in a subset must be in non-descending order.\n",
    "The solution set must not contain duplicate subsets.\n",
    "\n",
    "If nums = [1,2,3], a solution is:\n",
    "\n",
    "[\n",
    "  [3],\n",
    "  [1],\n",
    "  [2],\n",
    "  [1,2,3],\n",
    "  [1,3],\n",
    "  [2,3],\n",
    "  [1,2],\n",
    "  []\n",
    "]"
   ]
  },
  {
   "cell_type": "code",
   "execution_count": 1,
   "metadata": {
    "collapsed": true
   },
   "outputs": [],
   "source": [
    "class Solution(object):\n",
    "    \n",
    "    def subsets(self, nums):\n",
    "        \"\"\"\n",
    "        :type nums: List[int]\n",
    "        :rtype: List[List[int]]\n",
    "        \"\"\"\n",
    "        \n",
    "        # build final answer using bottom up approach.\n",
    "        \n",
    "        n = len(nums)\n",
    "        nums.sort()\n",
    "        \n",
    "        memo = {}\n",
    "        memo[0] = [[], [nums[0]]]\n",
    "        \n",
    "        for i in range(1, n):\n",
    "            result = []\n",
    "            result.extend(memo[i-1])\n",
    "            for prev_val in memo[i-1]:\n",
    "                result.append(prev_val + [nums[i]])\n",
    "            \n",
    "            memo[i] = result\n",
    "        \n",
    "        return memo[n-1]"
   ]
  },
  {
   "cell_type": "code",
   "execution_count": 3,
   "metadata": {
    "collapsed": false
   },
   "outputs": [
    {
     "name": "stdout",
     "output_type": "stream",
     "text": [
      "[[], [1], [2], [1, 2], [3], [1, 3], [2, 3], [1, 2, 3]]\n",
      "[[], [1], [2], [1, 2], [3], [1, 3], [2, 3], [1, 2, 3], [4], [1, 4], [2, 4], [1, 2, 4], [3, 4], [1, 3, 4], [2, 3, 4], [1, 2, 3, 4]]\n"
     ]
    }
   ],
   "source": [
    "soln = Solution()\n",
    "print(soln.subsets([1, 2, 3]))\n",
    "print(soln.subsets([1, 2, 3, 4]))"
   ]
  },
  {
   "cell_type": "code",
   "execution_count": null,
   "metadata": {
    "collapsed": true
   },
   "outputs": [],
   "source": []
  }
 ],
 "metadata": {
  "kernelspec": {
   "display_name": "Python 2",
   "language": "python",
   "name": "python2"
  },
  "language_info": {
   "codemirror_mode": {
    "name": "ipython",
    "version": 2
   },
   "file_extension": ".py",
   "mimetype": "text/x-python",
   "name": "python",
   "nbconvert_exporter": "python",
   "pygments_lexer": "ipython2",
   "version": "2.7.6"
  }
 },
 "nbformat": 4,
 "nbformat_minor": 0
}
