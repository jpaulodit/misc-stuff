{
 "cells": [
  {
   "cell_type": "markdown",
   "metadata": {},
   "source": [
    "Given a collection of distinct numbers, return all possible permutations.\n",
    "\n",
    "For example,\n",
    "[1,2,3] have the following permutations:\n",
    "[1,2,3], [1,3,2], [2,1,3], [2,3,1], [3,1,2], and [3,2,1]."
   ]
  },
  {
   "cell_type": "code",
   "execution_count": 3,
   "metadata": {
    "collapsed": true
   },
   "outputs": [],
   "source": [
    "class Solution(object):\n",
    "    \n",
    "    def permute(self, nums):\n",
    "        \"\"\"\n",
    "        :type nums: List[int]\n",
    "        :rtype: List[List[int]]\n",
    "        \"\"\"\n",
    "        \n",
    "        n = len(nums)\n",
    "        \n",
    "        if n == 0:\n",
    "            return []\n",
    "        \n",
    "        if n == 1:\n",
    "            return [nums]\n",
    "        \n",
    "        result = []\n",
    "        for i in range(n):\n",
    "            \n",
    "            x = nums[i]\n",
    "            x_others = nums[:i] + nums[i+1:]\n",
    "            sub_result = self.permute(x_others)\n",
    "            \n",
    "            for sub_perm in sub_result:\n",
    "                result.append([x,] + sub_perm) \n",
    "                \n",
    "        return result\n",
    "        "
   ]
  },
  {
   "cell_type": "code",
   "execution_count": 4,
   "metadata": {
    "collapsed": false
   },
   "outputs": [
    {
     "name": "stdout",
     "output_type": "stream",
     "text": [
      "[[1, 2, 3], [1, 3, 2], [2, 1, 3], [2, 3, 1], [3, 1, 2], [3, 2, 1]]\n"
     ]
    }
   ],
   "source": [
    "soln = Solution()\n",
    "print(soln.permute([1, 2, 3]))"
   ]
  }
 ],
 "metadata": {
  "kernelspec": {
   "display_name": "Python 2",
   "language": "python",
   "name": "python2"
  },
  "language_info": {
   "codemirror_mode": {
    "name": "ipython",
    "version": 2
   },
   "file_extension": ".py",
   "mimetype": "text/x-python",
   "name": "python",
   "nbconvert_exporter": "python",
   "pygments_lexer": "ipython2",
   "version": "2.7.6"
  }
 },
 "nbformat": 4,
 "nbformat_minor": 0
}
