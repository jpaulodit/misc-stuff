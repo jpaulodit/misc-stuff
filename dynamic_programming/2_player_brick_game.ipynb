{
 "cells": [
  {
   "cell_type": "markdown",
   "metadata": {},
   "source": [
    "You and your friend decide to play a game using a stack consisting of N bricks. In this game, you can alternatively remove 1, 2 or 3 bricks from the top, and the numbers etched on the removed bricks are added to your score. You have to play so that you obtain the maximum possible score. It is given that your friend will also play optimally and you make the first move."
   ]
  },
  {
   "cell_type": "markdown",
   "metadata": {},
   "source": [
    "### Initial Code"
   ]
  },
  {
   "cell_type": "code",
   "execution_count": 37,
   "metadata": {
    "collapsed": true
   },
   "outputs": [],
   "source": [
    "# let this function return the max score that the user can get from a brick stack.\n",
    "# let n be the index of the top of the stack in bStack.\n",
    "def solver(n, bStack):\n",
    "    \n",
    "    # base cases\n",
    "    if n >= N: return 0\n",
    "    if n == N-1: return bStack[n]\n",
    "    if n == N-2: return sum(bStack[n:])\n",
    "    if n == N-3: return sum(bStack[n:])\n",
    "    \n",
    "    # I take 1, 2, or 3 bricks from top, and player 2 also makes optimal decision.\n",
    "    # So whatever choice i make next would be the minimum from his perspective.\n",
    "    \n",
    "    return max(        \n",
    "        bStack[n] + min(solver(n+2, bStack), solver(n+3, bStack), solver(n+4, bStack)),\n",
    "        \n",
    "        bStack[n] + bStack[n+1] + min(solver(n+3, bStack), solver(n+4, bStack), solver(n+5, bStack)),\n",
    "\n",
    "        bStack[n] + bStack[n+1] + bStack[n+2] + min(solver(n+4, bStack), solver(n+5, bStack), solver(n+6, bStack))\n",
    "    )"
   ]
  },
  {
   "cell_type": "markdown",
   "metadata": {},
   "source": [
    "### Add memorization of prior solutions."
   ]
  },
  {
   "cell_type": "code",
   "execution_count": 38,
   "metadata": {
    "collapsed": true
   },
   "outputs": [],
   "source": [
    "# let this function return the max score that the user can get from a brick stack.\n",
    "# let n be the index of the top of the stack in bStack.\n",
    "def solver(n, bStack):\n",
    "    \n",
    "    if n in memo: return memo[n]\n",
    "    \n",
    "    # base cases\n",
    "    if n >= N: return 0\n",
    "    if n == N-1: return bStack[n]\n",
    "    if n == N-2: return sum(bStack[n:])\n",
    "    if n == N-3: return sum(bStack[n:])\n",
    "    \n",
    "    # I take 1, 2, or 3 from top, and since player 2 also makes optimal decision, \n",
    "    # i am left with taking minimum of whats left of the stack.\n",
    "    \n",
    "    soln = max(        \n",
    "        bStack[n] + min(solver(n+2, bStack), solver(n+3, bStack), solver(n+4, bStack)),\n",
    "        \n",
    "        bStack[n] + bStack[n+1] + min(solver(n+3, bStack), solver(n+4, bStack), solver(n+5, bStack)),\n",
    "\n",
    "        bStack[n] + bStack[n+1] + bStack[n+2] + min(solver(n+4, bStack), solver(n+5, bStack), solver(n+6, bStack))\n",
    "    )\n",
    "    \n",
    "    memo[n] = soln\n",
    "    \n",
    "    return soln"
   ]
  },
  {
   "cell_type": "markdown",
   "metadata": {},
   "source": [
    "### Use bottom up approach. The recursive approach doesn't work well in Python when recursion depth exceeds limit."
   ]
  },
  {
   "cell_type": "code",
   "execution_count": 39,
   "metadata": {
    "collapsed": true
   },
   "outputs": [],
   "source": [
    "# Helper utility\n",
    "def get_memo(n, memo):\n",
    "    if n >= len(memo):\n",
    "        return 0\n",
    "    else:\n",
    "        return memo[n]\n",
    "\n",
    "\n",
    "# let this function return the max score that the user can get from a brick stack.\n",
    "# bottom up approach.\n",
    "def solver(N, bStack):\n",
    "    \n",
    "    memo = [0]*N\n",
    "    \n",
    "    for n in range(N-1, -1, -1):\n",
    "        if n == N-1:\n",
    "            memo[n] = bStack[n]\n",
    "        elif n == N-2:\n",
    "            memo[n] = sum(bStack[n:])\n",
    "        elif n == N-3:\n",
    "            memo[n] = sum(bStack[n:])\n",
    "        else:\n",
    "            \n",
    "            x = bStack[n] + min(get_memo(n+2, memo), get_memo(n+3, memo), get_memo(n+4, memo))\n",
    "            y = bStack[n] + bStack[n+1] + min(get_memo(n+3, memo), get_memo(n+4, memo), get_memo(n+5, memo))\n",
    "            z = bStack[n] + bStack[n+1] + bStack[n+2] + min(get_memo(n+4, memo), get_memo(n+5, memo), get_memo(n+6, memo))\n",
    "            \n",
    "            memo[n] = max(x, y, z)\n",
    "            \n",
    "    return memo[0]       "
   ]
  },
  {
   "cell_type": "code",
   "execution_count": 40,
   "metadata": {
    "collapsed": false
   },
   "outputs": [
    {
     "name": "stdout",
     "output_type": "stream",
     "text": [
      "1001\n",
      "999\n",
      "2293\n"
     ]
    }
   ],
   "source": [
    "# Test Cases\n",
    "\n",
    "testData = [\n",
    "    (5, [999, 1, 1, 1, 0]),\n",
    "    (5, [0, 1, 1, 1, 999]),\n",
    "    (10, [321, 386, 740, 595, 161, 176, 606, 64, 577, 316])\n",
    "]\n",
    "\n",
    "for N, bStack in testData:\n",
    "    memo = {}\n",
    "    maxScore = brickSolver(N, bStack)\n",
    "    print(maxScore)\n"
   ]
  },
  {
   "cell_type": "code",
   "execution_count": null,
   "metadata": {
    "collapsed": true
   },
   "outputs": [],
   "source": []
  }
 ],
 "metadata": {
  "kernelspec": {
   "display_name": "Python 2",
   "language": "python",
   "name": "python2"
  },
  "language_info": {
   "codemirror_mode": {
    "name": "ipython",
    "version": 2
   },
   "file_extension": ".py",
   "mimetype": "text/x-python",
   "name": "python",
   "nbconvert_exporter": "python",
   "pygments_lexer": "ipython2",
   "version": "2.7.6"
  }
 },
 "nbformat": 4,
 "nbformat_minor": 0
}
