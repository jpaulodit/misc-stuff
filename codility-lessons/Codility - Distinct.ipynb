{
 "cells": [
  {
   "cell_type": "markdown",
   "metadata": {},
   "source": [
    "Write a function\n",
    "\n",
    "def solution(A)\n",
    "\n",
    "that, given a zero-indexed array A consisting of N integers, returns the number of distinct values in array A."
   ]
  },
  {
   "cell_type": "code",
   "execution_count": 1,
   "metadata": {
    "collapsed": true
   },
   "outputs": [],
   "source": [
    "# you can write to stdout for debugging purposes, e.g.\n",
    "# print \"this is a debug message\"\n",
    "\n",
    "def solution(A):\n",
    "    # write your code in Python 2.7\n",
    "    \n",
    "    # have to use a storage to keep track of values seen. but since value range is wide,\n",
    "    # i cant use an array to keep track of each possible value.\n",
    "    # so have to use a dictionary or a set.\n",
    "    \n",
    "    tracker = {}\n",
    "    \n",
    "    for val in A:\n",
    "        \n",
    "        if val in tracker:\n",
    "            \n",
    "            tracker[val] += 1\n",
    "        \n",
    "        else:\n",
    "            \n",
    "            tracker[val] = 1\n",
    "    \n",
    "    return(len(tracker.keys()))\n",
    "    \n",
    "    "
   ]
  }
 ],
 "metadata": {
  "kernelspec": {
   "display_name": "Python 2",
   "language": "python",
   "name": "python2"
  },
  "language_info": {
   "codemirror_mode": {
    "name": "ipython",
    "version": 2
   },
   "file_extension": ".py",
   "mimetype": "text/x-python",
   "name": "python",
   "nbconvert_exporter": "python",
   "pygments_lexer": "ipython2",
   "version": "2.7.6"
  }
 },
 "nbformat": 4,
 "nbformat_minor": 0
}
