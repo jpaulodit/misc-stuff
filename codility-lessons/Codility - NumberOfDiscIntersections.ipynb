{
 "cells": [
  {
   "cell_type": "code",
   "execution_count": 1,
   "metadata": {
    "collapsed": true
   },
   "outputs": [],
   "source": [
    "def solution(A):\n",
    "    # write your code in Python 2.7\n",
    "    \n",
    "    lenA = len(A)\n",
    "    num_overlap = 0\n",
    "    \n",
    "    # worst runtime should be O(n^2)?\n",
    "    for d1 in range(lenA-1):\n",
    "        for d2 in range(d1+1, lenA):\n",
    "            \n",
    "            # check if d1 and d2 over lapps.\n",
    "            d1_range = (d1-A[d1],d1+A[d1])\n",
    "            d2_range = (d2-A[d2],d2+A[d2])\n",
    "            \n",
    "            result = overlap(d1_range, d2_range)\n",
    "                        \n",
    "            if result == True:\n",
    "                num_overlap += 1\n",
    "            \n",
    "            if num_overlap > 10000000:\n",
    "                return -1\n",
    "    \n",
    "    return(num_overlap)"
   ]
  },
  {
   "cell_type": "markdown",
   "metadata": {},
   "source": [
    "### A better code by Luca Invernizzi"
   ]
  },
  {
   "cell_type": "code",
   "execution_count": 2,
   "metadata": {
    "collapsed": true
   },
   "outputs": [],
   "source": [
    "def solution(A):\n",
    "    events = []\n",
    "    \n",
    "    for i, a in enumerate(A):\n",
    "        events += [(i-a, +1), (i+a, -1)]\n",
    "        \n",
    "    events.sort(key=lambda x: (x[0]))\n",
    "    \n",
    "    intersections, active_circles = 0, 0\n",
    "    \n",
    "    for _, circle_count_delta in events:\n",
    "        intersections += active_circles * (circle_count_delta > 0)\n",
    "        \n",
    "        # keep track of the number of active disks.\n",
    "        active_circles += circle_count_delta\n",
    "        \n",
    "        if intersections > 10E6:\n",
    "            return -1\n",
    "    return intersections"
   ]
  },
  {
   "cell_type": "code",
   "execution_count": null,
   "metadata": {
    "collapsed": true
   },
   "outputs": [],
   "source": []
  }
 ],
 "metadata": {
  "kernelspec": {
   "display_name": "Python 2",
   "language": "python",
   "name": "python2"
  },
  "language_info": {
   "codemirror_mode": {
    "name": "ipython",
    "version": 2
   },
   "file_extension": ".py",
   "mimetype": "text/x-python",
   "name": "python",
   "nbconvert_exporter": "python",
   "pygments_lexer": "ipython2",
   "version": "2.7.6"
  }
 },
 "nbformat": 4,
 "nbformat_minor": 0
}
