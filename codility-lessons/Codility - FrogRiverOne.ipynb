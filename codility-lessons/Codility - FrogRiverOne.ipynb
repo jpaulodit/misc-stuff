{
 "cells": [
  {
   "cell_type": "markdown",
   "metadata": {},
   "source": [
    "A small frog wants to get to the other side of a river. The frog is currently located at position 0, and wants to get to position X. Leaves fall from a tree onto the surface of the river.\n",
    "\n",
    "You are given a non-empty zero-indexed array A consisting of N integers representing the falling leaves. A[K] represents the position where one leaf falls at time K, measured in seconds.\n",
    "\n",
    "The goal is to find the earliest time when the frog can jump to the other side of the river. The frog can cross only when leaves appear at every position across the river from 1 to X. You may assume that the speed of the current in the river is negligibly small, i.e. the leaves do not change their positions once they fall in the river.\n",
    "\n",
    "For example, you are given integer X = 5 and array A such that:\n",
    "\n",
    "  A[0] = 1\n",
    "  A[1] = 3\n",
    "  A[2] = 1\n",
    "  A[3] = 4\n",
    "  A[4] = 2\n",
    "  A[5] = 3\n",
    "  A[6] = 5\n",
    "  A[7] = 4\n",
    "In second 6, a leaf falls into position 5. This is the earliest time when leaves appear in every position across the river.\n",
    "\n",
    "Write a function:\n",
    "\n",
    "def solution(X, A)\n",
    "\n",
    "that, given a non-empty zero-indexed array A consisting of N integers and integer X, returns the earliest time when the frog can jump to the other side of the river.\n",
    "\n",
    "If the frog is never able to jump to the other side of the river, the function should return −1."
   ]
  },
  {
   "cell_type": "code",
   "execution_count": 1,
   "metadata": {
    "collapsed": true
   },
   "outputs": [],
   "source": [
    "# you can write to stdout for debugging purposes, e.g.\n",
    "# print \"this is a debug message\"\n",
    "\n",
    "def solution(X, A):\n",
    "    \n",
    "    N = len(A)\n",
    "    \n",
    "    # use this to check if a position has been seen.\n",
    "    posTracker = [0]*(X+1)\n",
    "    \n",
    "    uniquePosCounter = 0\n",
    "    \n",
    "    latestTime = 0\n",
    "    \n",
    "    for timeK in range(N):\n",
    "    \n",
    "        pos = A[timeK]\n",
    "        \n",
    "        if pos <= X and posTracker[pos] == 0:\n",
    "            posTracker[pos] = 1\n",
    "            uniquePosCounter += 1\n",
    "            \n",
    "            if timeK > latestTime:\n",
    "                latestTime = timeK\n",
    "        \n",
    "        # found the drop time for all positions. no need to keep going.\n",
    "        if uniquePosCounter == X:\n",
    "            break\n",
    "    \n",
    "    if uniquePosCounter != X:\n",
    "        return -1\n",
    "    else:    \n",
    "        return latestTime"
   ]
  },
  {
   "cell_type": "code",
   "execution_count": 4,
   "metadata": {
    "collapsed": false
   },
   "outputs": [
    {
     "name": "stdout",
     "output_type": "stream",
     "text": [
      "6\n",
      "-1\n"
     ]
    }
   ],
   "source": [
    "# Test cases\n",
    "\n",
    "A = [1, 3, 1, 4, 2, 3, 5, 4]\n",
    "print(solution(5, A))\n",
    "\n",
    "A = [3, 4, 5]\n",
    "print(solution(7, A))"
   ]
  }
 ],
 "metadata": {
  "kernelspec": {
   "display_name": "Python 2",
   "language": "python",
   "name": "python2"
  },
  "language_info": {
   "codemirror_mode": {
    "name": "ipython",
    "version": 2
   },
   "file_extension": ".py",
   "mimetype": "text/x-python",
   "name": "python",
   "nbconvert_exporter": "python",
   "pygments_lexer": "ipython2",
   "version": "2.7.6"
  }
 },
 "nbformat": 4,
 "nbformat_minor": 0
}
