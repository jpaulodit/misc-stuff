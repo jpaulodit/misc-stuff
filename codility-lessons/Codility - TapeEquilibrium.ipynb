{
 "cells": [
  {
   "cell_type": "code",
   "execution_count": 5,
   "metadata": {
    "collapsed": true
   },
   "outputs": [],
   "source": [
    "# Minimize the value |(A[0] + ... + A[P-1]) - (A[P] + ... + A[N-1])|.\n",
    "# Assume 0 < p < N\n",
    "# N >= 2\n",
    "\n",
    "def solution(A):\n",
    "    \n",
    "    \"\"\" This solution is good. Problem is you have to keep doing the SUM() which is expensive.\n",
    "        Run time is O(n^2)\n",
    "        \n",
    "    N = len(A)  # smallest value of N is 2.\n",
    "    \n",
    "    minDiff = None\n",
    "    \n",
    "    # therefore smallest value of P is 1.\n",
    "    \n",
    "    if N == 2:\n",
    "        return abs(A[0] - A[1])\n",
    "        \n",
    "    else:\n",
    "        \n",
    "        for p in range(1, N):\n",
    "            \n",
    "            absDiff = abs(sum(A[:p]) - sum(A[p:]))\n",
    "            \n",
    "            if minDiff is None:\n",
    "                minDiff = absDiff\n",
    "            else:\n",
    "                if absDiff < minDiff:\n",
    "                    minDiff = absDiff\n",
    "    \n",
    "        return minDiff\n",
    "    \"\"\"     \n",
    "    \n",
    "    N = len(A)  # smallest value of N is 2.\n",
    "    \n",
    "    minDiff = None\n",
    "    \n",
    "    # therefore smallest value of P is 1.\n",
    "    \n",
    "    if N == 2:\n",
    "        return abs(A[0] - A[1])\n",
    "        \n",
    "    else:\n",
    "        \n",
    "        leftSum = 0         # inital left sum\n",
    "        rightSum = sum(A)   # inital right sum\n",
    "        \n",
    "        for p in range(1, N):\n",
    "            \n",
    "            leftSum = leftSum + A[p-1]\n",
    "            rightSum = rightSum - A[p-1]\n",
    "            \n",
    "            absDiff = abs(leftSum - rightSum)\n",
    "            \n",
    "            if minDiff is None:\n",
    "                minDiff = absDiff\n",
    "            else:\n",
    "                if absDiff < minDiff:\n",
    "                    minDiff = absDiff\n",
    "    \n",
    "        return minDiff"
   ]
  },
  {
   "cell_type": "code",
   "execution_count": 6,
   "metadata": {
    "collapsed": false
   },
   "outputs": [
    {
     "name": "stdout",
     "output_type": "stream",
     "text": [
      "20\n"
     ]
    }
   ],
   "source": [
    "# Test Case\n",
    "\n",
    "print(solution([-10, 10]))"
   ]
  },
  {
   "cell_type": "code",
   "execution_count": 7,
   "metadata": {
    "collapsed": false,
    "scrolled": true
   },
   "outputs": [
    {
     "name": "stdout",
     "output_type": "stream",
     "text": [
      "1\n"
     ]
    }
   ],
   "source": [
    "print(solution([3, 1, 2, 4, 3]))"
   ]
  }
 ],
 "metadata": {
  "kernelspec": {
   "display_name": "Python 2",
   "language": "python",
   "name": "python2"
  },
  "language_info": {
   "codemirror_mode": {
    "name": "ipython",
    "version": 2
   },
   "file_extension": ".py",
   "mimetype": "text/x-python",
   "name": "python",
   "nbconvert_exporter": "python",
   "pygments_lexer": "ipython2",
   "version": "2.7.6"
  }
 },
 "nbformat": 4,
 "nbformat_minor": 0
}
