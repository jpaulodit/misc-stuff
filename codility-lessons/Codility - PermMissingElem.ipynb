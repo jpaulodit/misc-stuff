{
 "cells": [
  {
   "cell_type": "markdown",
   "metadata": {},
   "source": [
    "A zero-indexed array A consisting of N different integers is given. The array contains integers in the range [1..(N + 1)], which means that exactly one element is missing.\n",
    "\n",
    "Your goal is to find that missing element.\n",
    "\n",
    "Write a function:\n",
    "\n",
    "def solution(A)\n",
    "\n",
    "that, given a zero-indexed array A, returns the value of the missing element."
   ]
  },
  {
   "cell_type": "code",
   "execution_count": 1,
   "metadata": {
    "collapsed": true
   },
   "outputs": [],
   "source": [
    "# you can write to stdout for debugging purposes, e.g.\n",
    "# print \"this is a debug message\"\n",
    "\n",
    "def solution(A):\n",
    "    # write your code in Python 2.7\n",
    "    \n",
    "    N = len(A)\n",
    "    \n",
    "    # suppose every element was present.\n",
    "    sumP = (N+1) * (N+2) / 2\n",
    "    \n",
    "    for val in A:\n",
    "        \n",
    "        sumP -= val\n",
    "        \n",
    "    return sumP"
   ]
  }
 ],
 "metadata": {
  "kernelspec": {
   "display_name": "Python 2",
   "language": "python",
   "name": "python2"
  },
  "language_info": {
   "codemirror_mode": {
    "name": "ipython",
    "version": 2
   },
   "file_extension": ".py",
   "mimetype": "text/x-python",
   "name": "python",
   "nbconvert_exporter": "python",
   "pygments_lexer": "ipython2",
   "version": "2.7.6"
  }
 },
 "nbformat": 4,
 "nbformat_minor": 0
}
