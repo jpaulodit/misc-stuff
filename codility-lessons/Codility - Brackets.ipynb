{
 "cells": [
  {
   "cell_type": "markdown",
   "metadata": {},
   "source": [
    "A string S consisting of N characters is considered to be properly nested if any of the following conditions is true:\n",
    "\n",
    "S is empty;\n",
    "S has the form \"(U)\" or \"[U]\" or \"{U}\" where U is a properly nested string;\n",
    "S has the form \"VW\" where V and W are properly nested strings.\n",
    "For example, the string \"{[()()]}\" is properly nested but \"([)()]\" is not.\n",
    "\n",
    "Write a function:\n",
    "\n",
    "def solution(S)\n",
    "\n",
    "that, given a string S consisting of N characters, returns 1 if S is properly nested and 0 otherwise."
   ]
  },
  {
   "cell_type": "code",
   "execution_count": 1,
   "metadata": {
    "collapsed": true
   },
   "outputs": [],
   "source": [
    "# you can write to stdout for debugging purposes, e.g.\n",
    "# print \"this is a debug message\"\n",
    "\n",
    "# problem is similar to the nesting problem, but here we need to keep track of different bracket types.\n",
    "# so use a stack.\n",
    "\n",
    "class myNode():\n",
    "    def __init__(self, x):\n",
    "        self.val = x\n",
    "        self.next = None\n",
    "\n",
    "class myStack():\n",
    "    def __init__(self, x):\n",
    "        self.head = myNode(x)\n",
    "\n",
    "    def push(self, x):\n",
    "        newNode = myNode(x)\n",
    "        newNode.next = self.head\n",
    "        self.head = newNode\n",
    "        \n",
    "    def pop(self):\n",
    "        if self.head is None:\n",
    "            return None\n",
    "        else:\n",
    "            x = self.head.val\n",
    "            self.head = self.head.next\n",
    "            return x\n",
    "\n",
    "    def peek(self):\n",
    "        if self.head is None:\n",
    "            return None\n",
    "        else:\n",
    "            return self.head.val\n",
    "\n",
    "def solution(S):\n",
    "    # write your code in Python 2.7\n",
    "    \n",
    "    # handle empty string test case.\n",
    "    if len(S) == 0:\n",
    "        return 1\n",
    "    \n",
    "    a_stack = myStack(S[0])\n",
    "    \n",
    "    for ch in S[1:]:\n",
    "        \n",
    "        if ch == '(' or ch == '{' or ch == '[':\n",
    "            a_stack.push(ch)\n",
    "        else:\n",
    "            # closing brackets\n",
    "            top = a_stack.pop()\n",
    "            if top is None:\n",
    "                return 0\n",
    "            else:\n",
    "                if top == '(' and ch != ')':\n",
    "                    return 0\n",
    "                elif top == '{' and ch != '}':\n",
    "                    return 0\n",
    "                elif top =='[' and ch != ']':\n",
    "                    return 0\n",
    "    \n",
    "    if a_stack.peek() is None:\n",
    "        return 1\n",
    "    else:\n",
    "        return 0"
   ]
  }
 ],
 "metadata": {
  "kernelspec": {
   "display_name": "Python 2",
   "language": "python",
   "name": "python2"
  },
  "language_info": {
   "codemirror_mode": {
    "name": "ipython",
    "version": 2
   },
   "file_extension": ".py",
   "mimetype": "text/x-python",
   "name": "python",
   "nbconvert_exporter": "python",
   "pygments_lexer": "ipython2",
   "version": "2.7.6"
  }
 },
 "nbformat": 4,
 "nbformat_minor": 0
}
