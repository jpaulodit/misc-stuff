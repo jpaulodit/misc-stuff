{
 "cells": [
  {
   "cell_type": "markdown",
   "metadata": {},
   "source": [
    "Write a function:\n",
    "\n",
    "def solution(A)\n",
    "\n",
    "that, given a non-empty zero-indexed array A of N integers, returns the minimal positive integer (greater than 0) that does not occur in A."
   ]
  },
  {
   "cell_type": "code",
   "execution_count": 1,
   "metadata": {
    "collapsed": true
   },
   "outputs": [],
   "source": [
    "# you can write to stdout for debugging purposes, e.g.\n",
    "# print \"this is a debug message\"\n",
    "\n",
    "def solution(A):\n",
    "    \n",
    "    posA = [val for val in A if val > 0]\n",
    "    lenPosA = len(posA)\n",
    "    \n",
    "    # test case\n",
    "    if lenPosA == 0:\n",
    "        return 1\n",
    "    \n",
    "    \"\"\" This method passed required sorting the list. But it is not really necessary.\n",
    "    \n",
    "    sortedPosA = sorted(posA)    \n",
    "    maxValue = sortedPosA[-1]\n",
    "    lookFor = 1\n",
    "    \n",
    "    for idx, value in enumerate(sortedPosA):\n",
    "        \n",
    "        if lookFor == sortedPosA[idx]:\n",
    "            lookFor += 1\n",
    "            continue\n",
    "        \n",
    "        if lookFor > sortedPosA[idx]:            \n",
    "            continue\n",
    "        \n",
    "        if lookFor < sortedPosA[idx]:\n",
    "            return lookFor\n",
    "    \n",
    "    # if you reach here, there is no issue found.\n",
    "    return maxValue+1\n",
    "    \n",
    "    \"\"\"\n",
    "    \n",
    "    seenTracker = [0] * (lenPosA + 1)\n",
    "    seenTracker[0] = 1\n",
    "    \n",
    "    # identify all the values that were seen\n",
    "    for val in posA:        \n",
    "        if val > 0 and val <= lenPosA:\n",
    "            seenTracker[val] = 1\n",
    "    \n",
    "    for idx, value in enumerate(seenTracker):        \n",
    "        if value == 0:\n",
    "            return idx\n",
    "    \n",
    "    # if you reach here, there is no issue found.\n",
    "    return lenPosA + 1"
   ]
  },
  {
   "cell_type": "code",
   "execution_count": 3,
   "metadata": {
    "collapsed": false
   },
   "outputs": [
    {
     "name": "stdout",
     "output_type": "stream",
     "text": [
      "1\n",
      "1\n",
      "2\n"
     ]
    }
   ],
   "source": [
    "print(solution([-1]))\n",
    "print(solution([-1, -4, -5]))\n",
    "print(solution([-1, -4, -5, 1, 3]))"
   ]
  },
  {
   "cell_type": "code",
   "execution_count": null,
   "metadata": {
    "collapsed": true
   },
   "outputs": [],
   "source": []
  }
 ],
 "metadata": {
  "kernelspec": {
   "display_name": "Python 2",
   "language": "python",
   "name": "python2"
  },
  "language_info": {
   "codemirror_mode": {
    "name": "ipython",
    "version": 2
   },
   "file_extension": ".py",
   "mimetype": "text/x-python",
   "name": "python",
   "nbconvert_exporter": "python",
   "pygments_lexer": "ipython2",
   "version": "2.7.6"
  }
 },
 "nbformat": 4,
 "nbformat_minor": 0
}
