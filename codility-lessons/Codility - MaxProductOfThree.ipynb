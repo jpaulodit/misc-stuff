{
 "cells": [
  {
   "cell_type": "markdown",
   "metadata": {},
   "source": [
    "Write a function:\n",
    "\n",
    "def solution(A)\n",
    "\n",
    "that, given a non-empty zero-indexed array A, returns the value of the maximal product of any triplet.\n",
    "\n",
    "For example, given array A such that:\n",
    "\n",
    "  A[0] = -3  \n",
    "  A[1] = 1  \n",
    "  A[2] = 2  \n",
    "  A[3] = -2  \n",
    "  A[4] = 5  \n",
    "  A[5] = 6\n",
    "  \n",
    "the function should return 60, as the product of triplet (2, 4, 5) is maximal.\n",
    "\n",
    "Assume that:\n",
    "\n",
    "N is an integer within the range [3..100,000];\n",
    "each element of array A is an integer within the range [−1,000..1,000]"
   ]
  },
  {
   "cell_type": "code",
   "execution_count": 1,
   "metadata": {
    "collapsed": true
   },
   "outputs": [],
   "source": [
    "# you can write to stdout for debugging purposes, e.g.\n",
    "# print \"this is a debug message\"\n",
    "\n",
    "def solution(A):\n",
    "    # write your code in Python 2.7\n",
    "    A.sort()\n",
    "    \n",
    "    lenA = len(A)\n",
    "    \n",
    "    # all are positive or negative.\n",
    "    if (A[lenA-1] >= 0 and A[0] >= 0) or (A[lenA-1] <= 0 and A[0] <= 0):\n",
    "        return(A[lenA-1]*A[lenA-2]*A[lenA-3])\n",
    "    else:\n",
    "        \n",
    "        # there exists some negative and positive values.\n",
    "        # rule - if i use a negative, i have to use 2 negative values\n",
    "        \n",
    "        case1 = A[lenA-1]*A[lenA-2]*A[lenA-3]\n",
    "        case2 = A[0]*A[1]*A[lenA-1]\n",
    "        return max(case1, case2)"
   ]
  },
  {
   "cell_type": "code",
   "execution_count": 2,
   "metadata": {
    "collapsed": true
   },
   "outputs": [],
   "source": [
    "## Note: I think I do not need to actually sort the array. I just have to find the\n",
    "## 3 largest values and 3 smallest values."
   ]
  }
 ],
 "metadata": {
  "kernelspec": {
   "display_name": "Python 2",
   "language": "python",
   "name": "python2"
  },
  "language_info": {
   "codemirror_mode": {
    "name": "ipython",
    "version": 2
   },
   "file_extension": ".py",
   "mimetype": "text/x-python",
   "name": "python",
   "nbconvert_exporter": "python",
   "pygments_lexer": "ipython2",
   "version": "2.7.6"
  }
 },
 "nbformat": 4,
 "nbformat_minor": 0
}
