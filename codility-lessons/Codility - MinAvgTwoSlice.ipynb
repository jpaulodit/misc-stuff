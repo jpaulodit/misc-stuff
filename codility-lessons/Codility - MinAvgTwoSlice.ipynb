{
 "cells": [
  {
   "cell_type": "markdown",
   "metadata": {},
   "source": [
    "A non-empty zero-indexed array A consisting of N integers is given. A pair of integers (P, Q), such that 0 ≤ P < Q < N, is called a slice of array A (notice that the slice contains at least two elements). The average of a slice (P, Q) is the sum of A[P] + A[P + 1] + ... + A[Q] divided by the length of the slice. To be precise, the average equals (A[P] + A[P + 1] + ... + A[Q]) / (Q − P + 1).\n",
    "\n",
    "For example, array A such that:\n",
    "\n",
    "    A[0] = 4\n",
    "    A[1] = 2\n",
    "    A[2] = 2\n",
    "    A[3] = 5\n",
    "    A[4] = 1\n",
    "    A[5] = 5\n",
    "    A[6] = 8\n",
    "contains the following example slices:\n",
    "\n",
    "slice (1, 2), whose average is (2 + 2) / 2 = 2;\n",
    "slice (3, 4), whose average is (5 + 1) / 2 = 3;\n",
    "slice (1, 4), whose average is (2 + 2 + 5 + 1) / 4 = 2.5.\n",
    "The goal is to find the starting position of a slice whose average is minimal.\n",
    "\n",
    "Write a function:\n",
    "\n",
    "def solution(A)\n",
    "\n",
    "that, given a non-empty zero-indexed array A consisting of N integers, returns the starting position of the slice with the minimal average. If there is more than one slice with a minimal average, you should return the smallest starting position of such a slice."
   ]
  },
  {
   "cell_type": "code",
   "execution_count": 1,
   "metadata": {
    "collapsed": true
   },
   "outputs": [],
   "source": [
    "# you can write to stdout for debugging purposes, e.g.\n",
    "# print \"this is a debug message\"\n",
    "\n",
    "from __future__ import division\n",
    "\n",
    "def solution(A):\n",
    "    \n",
    "    minAvg = None\n",
    "    startPos = []\n",
    "    N = len(A)\n",
    "    \n",
    "    \"\"\" Very expensive operation.\n",
    "    for p in range(N):\n",
    "        for q in range(p+1,N):\n",
    "            avg = calAvg(A, p, q)\n",
    "            if minAvg is None:\n",
    "                minAvg = avg\n",
    "                startPos.append(p)\n",
    "            else:\n",
    "                if avg < minAvg:\n",
    "                    minAvg = avg\n",
    "                    startPos = [p]\n",
    "                elif avg == minAvg:\n",
    "                    startPos.append(p)\n",
    "    \"\"\"\n",
    "    \n",
    "    # less expensive solution. but still not the optimal solution.\n",
    "    \n",
    "    for p in range(N):\n",
    "        # keep track of the sum so that we dont need to do that operation again.\n",
    "        sumPQ = A[p]\n",
    "        for q in range(p+1,N):\n",
    "            sumPQ = sumPQ + A[q]\n",
    "            avg = calAvg(sumPQ, p, q)\n",
    "            if minAvg is None:\n",
    "                minAvg = avg\n",
    "                startPos.append(p)\n",
    "            else:\n",
    "                if avg < minAvg:\n",
    "                    minAvg = avg\n",
    "                    startPos = [p]\n",
    "                elif avg == minAvg:\n",
    "                    startPos.append(p) \n",
    "\n",
    "    return min(startPos)\n",
    "    \n",
    "    \n",
    "def calAvg(sumPQ, p, q):\n",
    "    return sumPQ / (q - p + 1)"
   ]
  }
 ],
 "metadata": {
  "kernelspec": {
   "display_name": "Python 2",
   "language": "python",
   "name": "python2"
  },
  "language_info": {
   "codemirror_mode": {
    "name": "ipython",
    "version": 2
   },
   "file_extension": ".py",
   "mimetype": "text/x-python",
   "name": "python",
   "nbconvert_exporter": "python",
   "pygments_lexer": "ipython2",
   "version": "2.7.6"
  }
 },
 "nbformat": 4,
 "nbformat_minor": 0
}
