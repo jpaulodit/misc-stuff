{
 "cells": [
  {
   "cell_type": "markdown",
   "metadata": {},
   "source": [
    "You are given N counters, initially set to 0, and you have two possible operations on them:\n",
    "\n",
    "increase(X) − counter X is increased by 1,\n",
    "max counter − all counters are set to the maximum value of any counter.\n",
    "A non-empty zero-indexed array A of M integers is given. This array represents consecutive operations:\n",
    "\n",
    "if A[K] = X, such that 1 ≤ X ≤ N, then operation K is increase(X),\n",
    "if A[K] = N + 1 then operation K is max counter.\n",
    "For example, given integer N = 5 and array A such that:\n",
    "\n",
    "    A[0] = 3\n",
    "    A[1] = 4\n",
    "    A[2] = 4\n",
    "    A[3] = 6\n",
    "    A[4] = 1\n",
    "    A[5] = 4\n",
    "    A[6] = 4\n",
    "the values of the counters after each consecutive operation will be:\n",
    "\n",
    "    (0, 0, 1, 0, 0)\n",
    "    (0, 0, 1, 1, 0)\n",
    "    (0, 0, 1, 2, 0)\n",
    "    (2, 2, 2, 2, 2)\n",
    "    (3, 2, 2, 2, 2)\n",
    "    (3, 2, 2, 3, 2)\n",
    "    (3, 2, 2, 4, 2)\n",
    "The goal is to calculate the value of every counter after all operations.\n",
    "\n",
    "Write a function:\n",
    "\n",
    "def solution(N, A)\n",
    "\n",
    "that, given an integer N and a non-empty zero-indexed array A consisting of M integers, returns a sequence of integers representing the values of the counters."
   ]
  },
  {
   "cell_type": "code",
   "execution_count": null,
   "metadata": {
    "collapsed": true
   },
   "outputs": [],
   "source": [
    "# you can write to stdout for debugging purposes, e.g.\n",
    "# print \"this is a debug message\"\n",
    "\n",
    "def solution(N, A):\n",
    "    \n",
    "    counters = [0]*(N+1)\n",
    "    \n",
    "    minBar = 0\n",
    "    \n",
    "    maxCounter = 0\n",
    "    \n",
    "    for k, x in enumerate(A):\n",
    "        \n",
    "        if x == N+1:\n",
    "            # max operation\n",
    "            minBar = maxCounter\n",
    "        \n",
    "        else:\n",
    "            \n",
    "            if counters[x] < minBar:\n",
    "                counters[x] = minBar\n",
    "            \n",
    "            # increment operation            \n",
    "            counters[x] = counters[x] + 1\n",
    "            \n",
    "            # keep track of max counter value            \n",
    "            if counters[x] > maxCounter:\n",
    "                maxCounter = counters[x]\n",
    "    \n",
    "    # house keeping    \n",
    "    for idx, val in enumerate(counters):\n",
    "        if val < minBar:\n",
    "            counters[idx] = minBar\n",
    "    \n",
    "    return counters[1:]"
   ]
  }
 ],
 "metadata": {
  "kernelspec": {
   "display_name": "Python 2",
   "language": "python",
   "name": "python2"
  },
  "language_info": {
   "codemirror_mode": {
    "name": "ipython",
    "version": 2
   },
   "file_extension": ".py",
   "mimetype": "text/x-python",
   "name": "python",
   "nbconvert_exporter": "python",
   "pygments_lexer": "ipython2",
   "version": "2.7.6"
  }
 },
 "nbformat": 4,
 "nbformat_minor": 0
}
