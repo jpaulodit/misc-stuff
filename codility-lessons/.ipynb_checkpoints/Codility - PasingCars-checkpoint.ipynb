{
 "cells": [
  {
   "cell_type": "markdown",
   "metadata": {},
   "source": [
    "A non-empty zero-indexed array A consisting of N integers is given. The consecutive elements of array A represent consecutive cars on a road.\n",
    "\n",
    "Array A contains only 0s and/or 1s:\n",
    "\n",
    "0 represents a car traveling east,\n",
    "1 represents a car traveling west.\n",
    "The goal is to count passing cars. We say that a pair of cars (P, Q), where 0 ≤ P < Q < N, is passing when P is traveling to the east and Q is traveling to the west.\n",
    "\n",
    "For example, consider array A such that:\n",
    "\n",
    "  A[0] = 0\n",
    "  A[1] = 1\n",
    "  A[2] = 0\n",
    "  A[3] = 1\n",
    "  A[4] = 1\n",
    "We have five pairs of passing cars: (0, 1), (0, 3), (0, 4), (2, 3), (2, 4).\n",
    "\n",
    "Write a function:\n",
    "\n",
    "def solution(A)\n",
    "\n",
    "that, given a non-empty zero-indexed array A of N integers, returns the number of pairs of passing cars.\n",
    "\n",
    "The function should return −1 if the number of pairs of passing cars exceeds 1,000,000,000."
   ]
  },
  {
   "cell_type": "code",
   "execution_count": null,
   "metadata": {
    "collapsed": true
   },
   "outputs": [],
   "source": [
    "# you can write to stdout for debugging purposes, e.g.\n",
    "# print \"this is a debug message\"\n",
    "\n",
    "def solution(A):\n",
    "    \n",
    "    # each array index in A represents a car number\n",
    "    # given a car X, car X can only pass car Y if X <= Y\n",
    "    \n",
    "    N = len(A)\n",
    "    numCarsWest = 0\n",
    "    \n",
    "    numPairs = 0\n",
    "    \n",
    "    for carPos in range(N):        \n",
    "        if A[carPos] == 0:            \n",
    "            numCarsWest = sum(A[carPos:])\n",
    "            break\n",
    "    \n",
    "    # exception case: only the last car is going east.\n",
    "    if carPos == N - 1:\n",
    "        return 0\n",
    "    \n",
    "    for carPos2 in range(carPos, N):\n",
    "        if A[carPos2] == 0:\n",
    "            numPairs += numCarsWest\n",
    "            if numPairs > 1000000000:\n",
    "                return -1\n",
    "        else:\n",
    "            numCarsWest -= 1\n",
    "    \n",
    "    return numPairs\n",
    "\n",
    "\"\"\"\n",
    "NOTE: We might be able to save a sum() if we run the FOR loop from largest to smallest.\n",
    "The \"numCarsWest\" is increased as we iternate through.\n",
    "\"\"\""
   ]
  }
 ],
 "metadata": {
  "kernelspec": {
   "display_name": "Python 2",
   "language": "python",
   "name": "python2"
  },
  "language_info": {
   "codemirror_mode": {
    "name": "ipython",
    "version": 2
   },
   "file_extension": ".py",
   "mimetype": "text/x-python",
   "name": "python",
   "nbconvert_exporter": "python",
   "pygments_lexer": "ipython2",
   "version": "2.7.6"
  }
 },
 "nbformat": 4,
 "nbformat_minor": 0
}
