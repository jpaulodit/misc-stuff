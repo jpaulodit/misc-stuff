{
 "cells": [
  {
   "cell_type": "markdown",
   "metadata": {},
   "source": [
    "A zero-indexed array A consisting of N integers is given. A triplet (P, Q, R) is triangular if 0 ≤ P < Q < R < N and:\n",
    "\n",
    "A[P] + A[Q] > A[R],\n",
    "\n",
    "A[Q] + A[R] > A[P],\n",
    "\n",
    "A[R] + A[P] > A[Q].\n",
    "\n",
    "\n",
    "For example, consider array A such that:\n",
    "\n",
    "  A[0] = 10    A[1] = 2    A[2] = 5\n",
    "  A[3] = 1     A[4] = 8    A[5] = 20\n",
    "Triplet (0, 2, 4) is triangular.\n",
    "\n",
    "Write a function:\n",
    "\n",
    "def solution(A)\n",
    "\n",
    "that, given a zero-indexed array A consisting of N integers, returns 1 if there exists a triangular triplet for this array and returns 0 otherwise."
   ]
  },
  {
   "cell_type": "code",
   "execution_count": 1,
   "metadata": {
    "collapsed": true
   },
   "outputs": [],
   "source": [
    "# you can write to stdout for debugging purposes, e.g.\n",
    "# print \"this is a debug message\"\n",
    "\n",
    "def val_in_range(lower, upper, A):\n",
    "    \n",
    "    for val in A:\n",
    "        if val > lower and val < upper:\n",
    "            return True\n",
    "    return False\n",
    "    \n",
    "\n",
    "def solution(A):\n",
    "    # write your code in Python 2.7\n",
    "    \n",
    "    sortedA = sorted(A)\n",
    "    \n",
    "    lenA = len(A)\n",
    "    \n",
    "    \"\"\"\n",
    "    tracker= {}\n",
    "    \n",
    "    for idx, val in enumerate(A):\n",
    "        if val in tracker:\n",
    "            tracker[val].append(idx)\n",
    "        else:\n",
    "            tracker[val] = [idx]\n",
    "    \"\"\"\n",
    "    \n",
    "    if lenA < 3:\n",
    "        return 0\n",
    "    else:\n",
    "            \n",
    "        for i in range(1, lenA-1):\n",
    "            \n",
    "            sP = sortedA[i-1]\n",
    "            sQ = sortedA[i]\n",
    "            sR = sortedA[i+1]\n",
    "            \n",
    "            if (sP + sQ > sR) and (sQ + sR > sP) and (sR + sP > sQ):\n",
    "                \n",
    "                return 1\n",
    "                \n",
    "                \"\"\"\n",
    "                # possibility of a triplet. check position of P, Q, and R in original array.\n",
    "                print(sP, sQ, sR)\n",
    "                \n",
    "                minP = min(tracker[sP])\n",
    "                maxR = max(tracker[sR])\n",
    "                \n",
    "                if minP < maxR and val_in_range(minP, maxR, tracker[sQ]) == True:\n",
    "                    return 1\n",
    "                \"\"\"\n",
    "        \n",
    "        return 0"
   ]
  },
  {
   "cell_type": "code",
   "execution_count": null,
   "metadata": {
    "collapsed": true
   },
   "outputs": [],
   "source": []
  }
 ],
 "metadata": {
  "kernelspec": {
   "display_name": "Python 2",
   "language": "python",
   "name": "python2"
  },
  "language_info": {
   "codemirror_mode": {
    "name": "ipython",
    "version": 2
   },
   "file_extension": ".py",
   "mimetype": "text/x-python",
   "name": "python",
   "nbconvert_exporter": "python",
   "pygments_lexer": "ipython2",
   "version": "2.7.6"
  }
 },
 "nbformat": 4,
 "nbformat_minor": 0
}
