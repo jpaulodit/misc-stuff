{
 "cells": [
  {
   "cell_type": "markdown",
   "metadata": {},
   "source": [
    "You are going to build a stone wall. The wall should be straight and N meters long, and its thickness should be constant; however, it should have different heights in different places. The height of the wall is specified by a zero-indexed array H of N positive integers. H[I] is the height of the wall from I to I+1 meters to the right of its left end. In particular, H[0] is the height of the wall's left end and H[N−1] is the height of the wall's right end.\n",
    "\n",
    "The wall should be built of cuboid stone blocks (that is, all sides of such blocks are rectangular). Your task is to compute the minimum number of blocks needed to build the wall.\n",
    "\n",
    "Write a function:\n",
    "\n",
    "def solution(H)\n",
    "\n",
    "that, given a zero-indexed array H of N positive integers specifying the height of the wall, returns the minimum number of blocks needed to build it."
   ]
  },
  {
   "cell_type": "code",
   "execution_count": 1,
   "metadata": {
    "collapsed": true
   },
   "outputs": [],
   "source": [
    "# you can write to stdout for debugging purposes, e.g.\n",
    "# print \"this is a debug message\"\n",
    "\n",
    "class myNode():\n",
    "    def __init__(self, x):\n",
    "        self.val = x\n",
    "        self.next = None\n",
    "\n",
    "class myStack():\n",
    "    def __init__(self, x):\n",
    "        self.head = myNode(x)\n",
    "\n",
    "    def push(self, x):\n",
    "        newNode = myNode(x)\n",
    "        newNode.next = self.head\n",
    "        self.head = newNode\n",
    "        \n",
    "    def pop(self):\n",
    "        if self.head is None:\n",
    "            return None\n",
    "        else:\n",
    "            x = self.head.val\n",
    "            self.head = self.head.next\n",
    "            return x\n",
    "\n",
    "    def peek(self):\n",
    "        if self.head is None:\n",
    "            return 0\n",
    "        else:\n",
    "            return self.head.val\n",
    "\n",
    "def solution(H):\n",
    "    # write your code in Python 2.7\n",
    "    \n",
    "    aStack = myStack(H[0])\n",
    "    numBlocks = 1\n",
    "    \n",
    "    for i in range(1, len(H)):\n",
    "        \n",
    "        if aStack.peek() == H[i]:\n",
    "            continue\n",
    "        \n",
    "        elif aStack.peek() < H[i]:\n",
    "            aStack.push(H[i])\n",
    "            numBlocks += 1\n",
    "        \n",
    "        else:\n",
    "            while(aStack.peek() > H[i]):\n",
    "                aStack.pop()\n",
    "            \n",
    "            if aStack.peek() != H[i]:\n",
    "                numBlocks += 1\n",
    "                aStack.push(H[i])\n",
    "    \n",
    "    return numBlocks"
   ]
  }
 ],
 "metadata": {
  "kernelspec": {
   "display_name": "Python 2",
   "language": "python",
   "name": "python2"
  },
  "language_info": {
   "codemirror_mode": {
    "name": "ipython",
    "version": 2
   },
   "file_extension": ".py",
   "mimetype": "text/x-python",
   "name": "python",
   "nbconvert_exporter": "python",
   "pygments_lexer": "ipython2",
   "version": "2.7.6"
  }
 },
 "nbformat": 4,
 "nbformat_minor": 0
}
