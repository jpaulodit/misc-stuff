{
 "metadata": {
  "name": "",
  "signature": "sha256:7186242e40615a996e3ccd46db0111d1b58f282ba37f735f36ea8b924bcda21a"
 },
 "nbformat": 3,
 "nbformat_minor": 0,
 "worksheets": [
  {
   "cells": [
    {
     "cell_type": "code",
     "collapsed": false,
     "input": [
      "from sklearn.datasets import load_iris"
     ],
     "language": "python",
     "metadata": {},
     "outputs": [],
     "prompt_number": 1
    },
    {
     "cell_type": "code",
     "collapsed": false,
     "input": [
      "iris = load_iris()\n",
      "type(iris)"
     ],
     "language": "python",
     "metadata": {},
     "outputs": [
      {
       "metadata": {},
       "output_type": "pyout",
       "prompt_number": 2,
       "text": [
        "sklearn.datasets.base.Bunch"
       ]
      }
     ],
     "prompt_number": 2
    },
    {
     "cell_type": "code",
     "collapsed": false,
     "input": [
      "print iris.data"
     ],
     "language": "python",
     "metadata": {},
     "outputs": [
      {
       "output_type": "stream",
       "stream": "stdout",
       "text": [
        "[[ 5.1  3.5  1.4  0.2]\n",
        " [ 4.9  3.   1.4  0.2]\n",
        " [ 4.7  3.2  1.3  0.2]\n",
        " [ 4.6  3.1  1.5  0.2]\n",
        " [ 5.   3.6  1.4  0.2]\n",
        " [ 5.4  3.9  1.7  0.4]\n",
        " [ 4.6  3.4  1.4  0.3]\n",
        " [ 5.   3.4  1.5  0.2]\n",
        " [ 4.4  2.9  1.4  0.2]\n",
        " [ 4.9  3.1  1.5  0.1]\n",
        " [ 5.4  3.7  1.5  0.2]\n",
        " [ 4.8  3.4  1.6  0.2]\n",
        " [ 4.8  3.   1.4  0.1]\n",
        " [ 4.3  3.   1.1  0.1]\n",
        " [ 5.8  4.   1.2  0.2]\n",
        " [ 5.7  4.4  1.5  0.4]\n",
        " [ 5.4  3.9  1.3  0.4]\n",
        " [ 5.1  3.5  1.4  0.3]\n",
        " [ 5.7  3.8  1.7  0.3]\n",
        " [ 5.1  3.8  1.5  0.3]\n",
        " [ 5.4  3.4  1.7  0.2]\n",
        " [ 5.1  3.7  1.5  0.4]\n",
        " [ 4.6  3.6  1.   0.2]\n",
        " [ 5.1  3.3  1.7  0.5]\n",
        " [ 4.8  3.4  1.9  0.2]\n",
        " [ 5.   3.   1.6  0.2]\n",
        " [ 5.   3.4  1.6  0.4]\n",
        " [ 5.2  3.5  1.5  0.2]\n",
        " [ 5.2  3.4  1.4  0.2]\n",
        " [ 4.7  3.2  1.6  0.2]\n",
        " [ 4.8  3.1  1.6  0.2]\n",
        " [ 5.4  3.4  1.5  0.4]\n",
        " [ 5.2  4.1  1.5  0.1]\n",
        " [ 5.5  4.2  1.4  0.2]\n",
        " [ 4.9  3.1  1.5  0.1]\n",
        " [ 5.   3.2  1.2  0.2]\n",
        " [ 5.5  3.5  1.3  0.2]\n",
        " [ 4.9  3.1  1.5  0.1]\n",
        " [ 4.4  3.   1.3  0.2]\n",
        " [ 5.1  3.4  1.5  0.2]\n",
        " [ 5.   3.5  1.3  0.3]\n",
        " [ 4.5  2.3  1.3  0.3]\n",
        " [ 4.4  3.2  1.3  0.2]\n",
        " [ 5.   3.5  1.6  0.6]\n",
        " [ 5.1  3.8  1.9  0.4]\n",
        " [ 4.8  3.   1.4  0.3]\n",
        " [ 5.1  3.8  1.6  0.2]\n",
        " [ 4.6  3.2  1.4  0.2]\n",
        " [ 5.3  3.7  1.5  0.2]\n",
        " [ 5.   3.3  1.4  0.2]\n",
        " [ 7.   3.2  4.7  1.4]\n",
        " [ 6.4  3.2  4.5  1.5]\n",
        " [ 6.9  3.1  4.9  1.5]\n",
        " [ 5.5  2.3  4.   1.3]\n",
        " [ 6.5  2.8  4.6  1.5]\n",
        " [ 5.7  2.8  4.5  1.3]\n",
        " [ 6.3  3.3  4.7  1.6]\n",
        " [ 4.9  2.4  3.3  1. ]\n",
        " [ 6.6  2.9  4.6  1.3]\n",
        " [ 5.2  2.7  3.9  1.4]\n",
        " [ 5.   2.   3.5  1. ]\n",
        " [ 5.9  3.   4.2  1.5]\n",
        " [ 6.   2.2  4.   1. ]\n",
        " [ 6.1  2.9  4.7  1.4]\n",
        " [ 5.6  2.9  3.6  1.3]\n",
        " [ 6.7  3.1  4.4  1.4]\n",
        " [ 5.6  3.   4.5  1.5]\n",
        " [ 5.8  2.7  4.1  1. ]\n",
        " [ 6.2  2.2  4.5  1.5]\n",
        " [ 5.6  2.5  3.9  1.1]\n",
        " [ 5.9  3.2  4.8  1.8]\n",
        " [ 6.1  2.8  4.   1.3]\n",
        " [ 6.3  2.5  4.9  1.5]\n",
        " [ 6.1  2.8  4.7  1.2]\n",
        " [ 6.4  2.9  4.3  1.3]\n",
        " [ 6.6  3.   4.4  1.4]\n",
        " [ 6.8  2.8  4.8  1.4]\n",
        " [ 6.7  3.   5.   1.7]\n",
        " [ 6.   2.9  4.5  1.5]\n",
        " [ 5.7  2.6  3.5  1. ]\n",
        " [ 5.5  2.4  3.8  1.1]\n",
        " [ 5.5  2.4  3.7  1. ]\n",
        " [ 5.8  2.7  3.9  1.2]\n",
        " [ 6.   2.7  5.1  1.6]\n",
        " [ 5.4  3.   4.5  1.5]\n",
        " [ 6.   3.4  4.5  1.6]\n",
        " [ 6.7  3.1  4.7  1.5]\n",
        " [ 6.3  2.3  4.4  1.3]\n",
        " [ 5.6  3.   4.1  1.3]\n",
        " [ 5.5  2.5  4.   1.3]\n",
        " [ 5.5  2.6  4.4  1.2]\n",
        " [ 6.1  3.   4.6  1.4]\n",
        " [ 5.8  2.6  4.   1.2]\n",
        " [ 5.   2.3  3.3  1. ]\n",
        " [ 5.6  2.7  4.2  1.3]\n",
        " [ 5.7  3.   4.2  1.2]\n",
        " [ 5.7  2.9  4.2  1.3]\n",
        " [ 6.2  2.9  4.3  1.3]\n",
        " [ 5.1  2.5  3.   1.1]\n",
        " [ 5.7  2.8  4.1  1.3]\n",
        " [ 6.3  3.3  6.   2.5]\n",
        " [ 5.8  2.7  5.1  1.9]\n",
        " [ 7.1  3.   5.9  2.1]\n",
        " [ 6.3  2.9  5.6  1.8]\n",
        " [ 6.5  3.   5.8  2.2]\n",
        " [ 7.6  3.   6.6  2.1]\n",
        " [ 4.9  2.5  4.5  1.7]\n",
        " [ 7.3  2.9  6.3  1.8]\n",
        " [ 6.7  2.5  5.8  1.8]\n",
        " [ 7.2  3.6  6.1  2.5]\n",
        " [ 6.5  3.2  5.1  2. ]\n",
        " [ 6.4  2.7  5.3  1.9]\n",
        " [ 6.8  3.   5.5  2.1]\n",
        " [ 5.7  2.5  5.   2. ]\n",
        " [ 5.8  2.8  5.1  2.4]\n",
        " [ 6.4  3.2  5.3  2.3]\n",
        " [ 6.5  3.   5.5  1.8]\n",
        " [ 7.7  3.8  6.7  2.2]\n",
        " [ 7.7  2.6  6.9  2.3]\n",
        " [ 6.   2.2  5.   1.5]\n",
        " [ 6.9  3.2  5.7  2.3]\n",
        " [ 5.6  2.8  4.9  2. ]\n",
        " [ 7.7  2.8  6.7  2. ]\n",
        " [ 6.3  2.7  4.9  1.8]\n",
        " [ 6.7  3.3  5.7  2.1]\n",
        " [ 7.2  3.2  6.   1.8]\n",
        " [ 6.2  2.8  4.8  1.8]\n",
        " [ 6.1  3.   4.9  1.8]\n",
        " [ 6.4  2.8  5.6  2.1]\n",
        " [ 7.2  3.   5.8  1.6]\n",
        " [ 7.4  2.8  6.1  1.9]\n",
        " [ 7.9  3.8  6.4  2. ]\n",
        " [ 6.4  2.8  5.6  2.2]\n",
        " [ 6.3  2.8  5.1  1.5]\n",
        " [ 6.1  2.6  5.6  1.4]\n",
        " [ 7.7  3.   6.1  2.3]\n",
        " [ 6.3  3.4  5.6  2.4]\n",
        " [ 6.4  3.1  5.5  1.8]\n",
        " [ 6.   3.   4.8  1.8]\n",
        " [ 6.9  3.1  5.4  2.1]\n",
        " [ 6.7  3.1  5.6  2.4]\n",
        " [ 6.9  3.1  5.1  2.3]\n",
        " [ 5.8  2.7  5.1  1.9]\n",
        " [ 6.8  3.2  5.9  2.3]\n",
        " [ 6.7  3.3  5.7  2.5]\n",
        " [ 6.7  3.   5.2  2.3]\n",
        " [ 6.3  2.5  5.   1.9]\n",
        " [ 6.5  3.   5.2  2. ]\n",
        " [ 6.2  3.4  5.4  2.3]\n",
        " [ 5.9  3.   5.1  1.8]]\n"
       ]
      }
     ],
     "prompt_number": 4
    },
    {
     "cell_type": "code",
     "collapsed": false,
     "input": [
      "print iris.feature_names"
     ],
     "language": "python",
     "metadata": {},
     "outputs": [
      {
       "output_type": "stream",
       "stream": "stdout",
       "text": [
        "['sepal length (cm)', 'sepal width (cm)', 'petal length (cm)', 'petal width (cm)']\n"
       ]
      }
     ],
     "prompt_number": 5
    },
    {
     "cell_type": "code",
     "collapsed": false,
     "input": [
      "print iris.target\n",
      "print type(iris.target)"
     ],
     "language": "python",
     "metadata": {},
     "outputs": [
      {
       "output_type": "stream",
       "stream": "stdout",
       "text": [
        "[0 0 0 0 0 0 0 0 0 0 0 0 0 0 0 0 0 0 0 0 0 0 0 0 0 0 0 0 0 0 0 0 0 0 0 0 0\n",
        " 0 0 0 0 0 0 0 0 0 0 0 0 0 1 1 1 1 1 1 1 1 1 1 1 1 1 1 1 1 1 1 1 1 1 1 1 1\n",
        " 1 1 1 1 1 1 1 1 1 1 1 1 1 1 1 1 1 1 1 1 1 1 1 1 1 1 2 2 2 2 2 2 2 2 2 2 2\n",
        " 2 2 2 2 2 2 2 2 2 2 2 2 2 2 2 2 2 2 2 2 2 2 2 2 2 2 2 2 2 2 2 2 2 2 2 2 2\n",
        " 2 2]\n",
        "<type 'numpy.ndarray'>\n"
       ]
      }
     ],
     "prompt_number": 9
    },
    {
     "cell_type": "code",
     "collapsed": false,
     "input": [
      "print iris.target_names"
     ],
     "language": "python",
     "metadata": {},
     "outputs": [
      {
       "output_type": "stream",
       "stream": "stdout",
       "text": [
        "['setosa' 'versicolor' 'virginica']\n"
       ]
      }
     ],
     "prompt_number": 8
    },
    {
     "cell_type": "code",
     "collapsed": false,
     "input": [
      "print iris.target_names.shape"
     ],
     "language": "python",
     "metadata": {},
     "outputs": [
      {
       "output_type": "stream",
       "stream": "stdout",
       "text": [
        "(3,)\n"
       ]
      }
     ],
     "prompt_number": 10
    },
    {
     "cell_type": "code",
     "collapsed": false,
     "input": [
      "print iris.data.shape"
     ],
     "language": "python",
     "metadata": {},
     "outputs": [
      {
       "output_type": "stream",
       "stream": "stdout",
       "text": [
        "(150, 4)\n"
       ]
      }
     ],
     "prompt_number": 11
    },
    {
     "cell_type": "code",
     "collapsed": false,
     "input": [
      "print iris.target.shape"
     ],
     "language": "python",
     "metadata": {},
     "outputs": [
      {
       "output_type": "stream",
       "stream": "stdout",
       "text": [
        "(150,)\n"
       ]
      }
     ],
     "prompt_number": 12
    },
    {
     "cell_type": "code",
     "collapsed": false,
     "input": [
      "X = iris.data"
     ],
     "language": "python",
     "metadata": {},
     "outputs": [],
     "prompt_number": 13
    },
    {
     "cell_type": "code",
     "collapsed": false,
     "input": [
      "y = iris.target"
     ],
     "language": "python",
     "metadata": {},
     "outputs": [],
     "prompt_number": 14
    },
    {
     "cell_type": "code",
     "collapsed": false,
     "input": [
      "print X.shape\n",
      "print y.shape"
     ],
     "language": "python",
     "metadata": {},
     "outputs": [
      {
       "output_type": "stream",
       "stream": "stdout",
       "text": [
        "(150, 4)\n",
        "(150,)\n"
       ]
      }
     ],
     "prompt_number": 15
    },
    {
     "cell_type": "code",
     "collapsed": false,
     "input": [
      "from sklearn.neighbors import KNeighborsClassifier"
     ],
     "language": "python",
     "metadata": {},
     "outputs": [],
     "prompt_number": 16
    },
    {
     "cell_type": "code",
     "collapsed": false,
     "input": [
      "knn = KNeighborsClassifier(n_neighbors=1)"
     ],
     "language": "python",
     "metadata": {},
     "outputs": [],
     "prompt_number": 17
    },
    {
     "cell_type": "code",
     "collapsed": false,
     "input": [
      "print knn"
     ],
     "language": "python",
     "metadata": {},
     "outputs": [
      {
       "output_type": "stream",
       "stream": "stdout",
       "text": [
        "KNeighborsClassifier(algorithm='auto', leaf_size=30, metric='minkowski',\n",
        "           metric_params=None, n_neighbors=1, p=2, weights='uniform')\n"
       ]
      }
     ],
     "prompt_number": 18
    },
    {
     "cell_type": "code",
     "collapsed": false,
     "input": [
      "knn.fit(X, y)"
     ],
     "language": "python",
     "metadata": {},
     "outputs": [
      {
       "metadata": {},
       "output_type": "pyout",
       "prompt_number": 21,
       "text": [
        "KNeighborsClassifier(algorithm='auto', leaf_size=30, metric='minkowski',\n",
        "           metric_params=None, n_neighbors=1, p=2, weights='uniform')"
       ]
      }
     ],
     "prompt_number": 21
    },
    {
     "cell_type": "code",
     "collapsed": false,
     "input": [
      "knn.predict([3, 5, 4, 2])"
     ],
     "language": "python",
     "metadata": {},
     "outputs": [
      {
       "metadata": {},
       "output_type": "pyout",
       "prompt_number": 23,
       "text": [
        "array([2])"
       ]
      }
     ],
     "prompt_number": 23
    },
    {
     "cell_type": "code",
     "collapsed": false,
     "input": [
      "X_new = [[3, 5, 4, 2], [5, 4, 3, 2]]\n",
      "knn.predict(X_new)"
     ],
     "language": "python",
     "metadata": {},
     "outputs": [
      {
       "metadata": {},
       "output_type": "pyout",
       "prompt_number": 25,
       "text": [
        "array([2, 1])"
       ]
      }
     ],
     "prompt_number": 25
    },
    {
     "cell_type": "code",
     "collapsed": false,
     "input": [
      "knn = KNeighborsClassifier(n_neighbors=5)"
     ],
     "language": "python",
     "metadata": {},
     "outputs": [],
     "prompt_number": 26
    },
    {
     "cell_type": "code",
     "collapsed": false,
     "input": [
      "knn.fit(X, y)"
     ],
     "language": "python",
     "metadata": {},
     "outputs": [
      {
       "metadata": {},
       "output_type": "pyout",
       "prompt_number": 27,
       "text": [
        "KNeighborsClassifier(algorithm='auto', leaf_size=30, metric='minkowski',\n",
        "           metric_params=None, n_neighbors=5, p=2, weights='uniform')"
       ]
      }
     ],
     "prompt_number": 27
    },
    {
     "cell_type": "code",
     "collapsed": false,
     "input": [
      "knn.predict(X_new)"
     ],
     "language": "python",
     "metadata": {},
     "outputs": [
      {
       "metadata": {},
       "output_type": "pyout",
       "prompt_number": 28,
       "text": [
        "array([1, 1])"
       ]
      }
     ],
     "prompt_number": 28
    },
    {
     "cell_type": "code",
     "collapsed": false,
     "input": [
      "X[:, :2]"
     ],
     "language": "python",
     "metadata": {},
     "outputs": [
      {
       "metadata": {},
       "output_type": "pyout",
       "prompt_number": 30,
       "text": [
        "array([[ 5.1,  3.5],\n",
        "       [ 4.9,  3. ],\n",
        "       [ 4.7,  3.2],\n",
        "       [ 4.6,  3.1],\n",
        "       [ 5. ,  3.6],\n",
        "       [ 5.4,  3.9],\n",
        "       [ 4.6,  3.4],\n",
        "       [ 5. ,  3.4],\n",
        "       [ 4.4,  2.9],\n",
        "       [ 4.9,  3.1],\n",
        "       [ 5.4,  3.7],\n",
        "       [ 4.8,  3.4],\n",
        "       [ 4.8,  3. ],\n",
        "       [ 4.3,  3. ],\n",
        "       [ 5.8,  4. ],\n",
        "       [ 5.7,  4.4],\n",
        "       [ 5.4,  3.9],\n",
        "       [ 5.1,  3.5],\n",
        "       [ 5.7,  3.8],\n",
        "       [ 5.1,  3.8],\n",
        "       [ 5.4,  3.4],\n",
        "       [ 5.1,  3.7],\n",
        "       [ 4.6,  3.6],\n",
        "       [ 5.1,  3.3],\n",
        "       [ 4.8,  3.4],\n",
        "       [ 5. ,  3. ],\n",
        "       [ 5. ,  3.4],\n",
        "       [ 5.2,  3.5],\n",
        "       [ 5.2,  3.4],\n",
        "       [ 4.7,  3.2],\n",
        "       [ 4.8,  3.1],\n",
        "       [ 5.4,  3.4],\n",
        "       [ 5.2,  4.1],\n",
        "       [ 5.5,  4.2],\n",
        "       [ 4.9,  3.1],\n",
        "       [ 5. ,  3.2],\n",
        "       [ 5.5,  3.5],\n",
        "       [ 4.9,  3.1],\n",
        "       [ 4.4,  3. ],\n",
        "       [ 5.1,  3.4],\n",
        "       [ 5. ,  3.5],\n",
        "       [ 4.5,  2.3],\n",
        "       [ 4.4,  3.2],\n",
        "       [ 5. ,  3.5],\n",
        "       [ 5.1,  3.8],\n",
        "       [ 4.8,  3. ],\n",
        "       [ 5.1,  3.8],\n",
        "       [ 4.6,  3.2],\n",
        "       [ 5.3,  3.7],\n",
        "       [ 5. ,  3.3],\n",
        "       [ 7. ,  3.2],\n",
        "       [ 6.4,  3.2],\n",
        "       [ 6.9,  3.1],\n",
        "       [ 5.5,  2.3],\n",
        "       [ 6.5,  2.8],\n",
        "       [ 5.7,  2.8],\n",
        "       [ 6.3,  3.3],\n",
        "       [ 4.9,  2.4],\n",
        "       [ 6.6,  2.9],\n",
        "       [ 5.2,  2.7],\n",
        "       [ 5. ,  2. ],\n",
        "       [ 5.9,  3. ],\n",
        "       [ 6. ,  2.2],\n",
        "       [ 6.1,  2.9],\n",
        "       [ 5.6,  2.9],\n",
        "       [ 6.7,  3.1],\n",
        "       [ 5.6,  3. ],\n",
        "       [ 5.8,  2.7],\n",
        "       [ 6.2,  2.2],\n",
        "       [ 5.6,  2.5],\n",
        "       [ 5.9,  3.2],\n",
        "       [ 6.1,  2.8],\n",
        "       [ 6.3,  2.5],\n",
        "       [ 6.1,  2.8],\n",
        "       [ 6.4,  2.9],\n",
        "       [ 6.6,  3. ],\n",
        "       [ 6.8,  2.8],\n",
        "       [ 6.7,  3. ],\n",
        "       [ 6. ,  2.9],\n",
        "       [ 5.7,  2.6],\n",
        "       [ 5.5,  2.4],\n",
        "       [ 5.5,  2.4],\n",
        "       [ 5.8,  2.7],\n",
        "       [ 6. ,  2.7],\n",
        "       [ 5.4,  3. ],\n",
        "       [ 6. ,  3.4],\n",
        "       [ 6.7,  3.1],\n",
        "       [ 6.3,  2.3],\n",
        "       [ 5.6,  3. ],\n",
        "       [ 5.5,  2.5],\n",
        "       [ 5.5,  2.6],\n",
        "       [ 6.1,  3. ],\n",
        "       [ 5.8,  2.6],\n",
        "       [ 5. ,  2.3],\n",
        "       [ 5.6,  2.7],\n",
        "       [ 5.7,  3. ],\n",
        "       [ 5.7,  2.9],\n",
        "       [ 6.2,  2.9],\n",
        "       [ 5.1,  2.5],\n",
        "       [ 5.7,  2.8],\n",
        "       [ 6.3,  3.3],\n",
        "       [ 5.8,  2.7],\n",
        "       [ 7.1,  3. ],\n",
        "       [ 6.3,  2.9],\n",
        "       [ 6.5,  3. ],\n",
        "       [ 7.6,  3. ],\n",
        "       [ 4.9,  2.5],\n",
        "       [ 7.3,  2.9],\n",
        "       [ 6.7,  2.5],\n",
        "       [ 7.2,  3.6],\n",
        "       [ 6.5,  3.2],\n",
        "       [ 6.4,  2.7],\n",
        "       [ 6.8,  3. ],\n",
        "       [ 5.7,  2.5],\n",
        "       [ 5.8,  2.8],\n",
        "       [ 6.4,  3.2],\n",
        "       [ 6.5,  3. ],\n",
        "       [ 7.7,  3.8],\n",
        "       [ 7.7,  2.6],\n",
        "       [ 6. ,  2.2],\n",
        "       [ 6.9,  3.2],\n",
        "       [ 5.6,  2.8],\n",
        "       [ 7.7,  2.8],\n",
        "       [ 6.3,  2.7],\n",
        "       [ 6.7,  3.3],\n",
        "       [ 7.2,  3.2],\n",
        "       [ 6.2,  2.8],\n",
        "       [ 6.1,  3. ],\n",
        "       [ 6.4,  2.8],\n",
        "       [ 7.2,  3. ],\n",
        "       [ 7.4,  2.8],\n",
        "       [ 7.9,  3.8],\n",
        "       [ 6.4,  2.8],\n",
        "       [ 6.3,  2.8],\n",
        "       [ 6.1,  2.6],\n",
        "       [ 7.7,  3. ],\n",
        "       [ 6.3,  3.4],\n",
        "       [ 6.4,  3.1],\n",
        "       [ 6. ,  3. ],\n",
        "       [ 6.9,  3.1],\n",
        "       [ 6.7,  3.1],\n",
        "       [ 6.9,  3.1],\n",
        "       [ 5.8,  2.7],\n",
        "       [ 6.8,  3.2],\n",
        "       [ 6.7,  3.3],\n",
        "       [ 6.7,  3. ],\n",
        "       [ 6.3,  2.5],\n",
        "       [ 6.5,  3. ],\n",
        "       [ 6.2,  3.4],\n",
        "       [ 5.9,  3. ]])"
       ]
      }
     ],
     "prompt_number": 30
    },
    {
     "cell_type": "code",
     "collapsed": false,
     "input": [
      "from sklearn.linear_model import LogisticRegression"
     ],
     "language": "python",
     "metadata": {},
     "outputs": [],
     "prompt_number": 31
    },
    {
     "cell_type": "code",
     "collapsed": false,
     "input": [
      "logReg = LogisticRegression()"
     ],
     "language": "python",
     "metadata": {},
     "outputs": [],
     "prompt_number": 41
    },
    {
     "cell_type": "code",
     "collapsed": false,
     "input": [
      "logReg.fit(X, y)"
     ],
     "language": "python",
     "metadata": {},
     "outputs": [
      {
       "metadata": {},
       "output_type": "pyout",
       "prompt_number": 42,
       "text": [
        "LogisticRegression(C=1.0, class_weight=None, dual=False, fit_intercept=True,\n",
        "          intercept_scaling=1, penalty='l2', random_state=None, tol=0.0001)"
       ]
      }
     ],
     "prompt_number": 42
    },
    {
     "cell_type": "code",
     "collapsed": false,
     "input": [
      "logReg.predict(X_new)"
     ],
     "language": "python",
     "metadata": {},
     "outputs": [
      {
       "metadata": {},
       "output_type": "pyout",
       "prompt_number": 43,
       "text": [
        "array([2, 0])"
       ]
      }
     ],
     "prompt_number": 43
    },
    {
     "cell_type": "code",
     "collapsed": false,
     "input": [
      "from sklearn.ensemble import RandomForestClassifier"
     ],
     "language": "python",
     "metadata": {},
     "outputs": [],
     "prompt_number": 44
    },
    {
     "cell_type": "code",
     "collapsed": false,
     "input": [
      "rfClas = RandomForestClassifier()"
     ],
     "language": "python",
     "metadata": {},
     "outputs": [],
     "prompt_number": 45
    },
    {
     "cell_type": "code",
     "collapsed": false,
     "input": [
      "rfClas.fit(X, y)"
     ],
     "language": "python",
     "metadata": {},
     "outputs": [
      {
       "metadata": {},
       "output_type": "pyout",
       "prompt_number": 46,
       "text": [
        "RandomForestClassifier(bootstrap=True, compute_importances=None,\n",
        "            criterion='gini', max_depth=None, max_features='auto',\n",
        "            max_leaf_nodes=None, min_density=None, min_samples_leaf=1,\n",
        "            min_samples_split=2, n_estimators=10, n_jobs=1,\n",
        "            oob_score=False, random_state=None, verbose=0)"
       ]
      }
     ],
     "prompt_number": 46
    },
    {
     "cell_type": "code",
     "collapsed": false,
     "input": [
      "rfClas.predict(X_new)"
     ],
     "language": "python",
     "metadata": {},
     "outputs": [
      {
       "metadata": {},
       "output_type": "pyout",
       "prompt_number": 47,
       "text": [
        "array([1, 1])"
       ]
      }
     ],
     "prompt_number": 47
    },
    {
     "cell_type": "code",
     "collapsed": false,
     "input": [],
     "language": "python",
     "metadata": {},
     "outputs": []
    }
   ],
   "metadata": {}
  }
 ]
}