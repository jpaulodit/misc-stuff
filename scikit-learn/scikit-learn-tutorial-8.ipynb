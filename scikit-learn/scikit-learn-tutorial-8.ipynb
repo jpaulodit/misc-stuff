{
 "metadata": {
  "name": "",
  "signature": "sha256:e31ec84ee2e4417cd805a8262b942542ec0108b9b985a0dc01be3b8ddf933d79"
 },
 "nbformat": 3,
 "nbformat_minor": 0,
 "worksheets": [
  {
   "cells": [
    {
     "cell_type": "code",
     "collapsed": false,
     "input": [
      "# Review of parameter tuning using cross_val_score\n",
      "\n",
      "from sklearn.datasets import load_iris\n",
      "from sklearn.neighbors import KNeighborsClassifier\n",
      "from sklearn.cross_validation import cross_val_score\n",
      "import matplotlib.pyplot as plt\n",
      "\n",
      "%matplotlib inline"
     ],
     "language": "python",
     "metadata": {},
     "outputs": [],
     "prompt_number": 1
    },
    {
     "cell_type": "code",
     "collapsed": false,
     "input": [
      "# load the data\n",
      "\n",
      "iris = load_iris()\n",
      "\n",
      "X = iris.data\n",
      "\n",
      "y = iris.target"
     ],
     "language": "python",
     "metadata": {},
     "outputs": [],
     "prompt_number": 3
    },
    {
     "cell_type": "code",
     "collapsed": false,
     "input": [
      "# 10 fold cross validation with K=5 for KNN\n",
      "\n",
      "knn = KNeighborsClassifier(n_neighbors=5)\n",
      "scores = cross_val_score(knn, X, y, scoring='accuracy', cv=10)\n",
      "print scores"
     ],
     "language": "python",
     "metadata": {},
     "outputs": [
      {
       "output_type": "stream",
       "stream": "stdout",
       "text": [
        "[ 1.          0.93333333  1.          1.          0.86666667  0.93333333\n",
        "  0.93333333  1.          1.          1.        ]\n"
       ]
      }
     ],
     "prompt_number": 4
    },
    {
     "cell_type": "code",
     "collapsed": false,
     "input": [
      "# use avg accuracy as estimate of out-of-sample accuracy\n",
      "print scores.mean()"
     ],
     "language": "python",
     "metadata": {},
     "outputs": [
      {
       "output_type": "stream",
       "stream": "stdout",
       "text": [
        "0.966666666667\n"
       ]
      }
     ],
     "prompt_number": 5
    },
    {
     "cell_type": "code",
     "collapsed": false,
     "input": [
      " # search for an optimal value of K\n",
      "k_range = range(1, 31)\n",
      "k_scores = []\n",
      "for k in k_range:\n",
      "    knn = KNeighborsClassifier(n_neighbors=k)\n",
      "    mean_score = cross_val_score(knn, X, y, scoring='accuracy', cv=10).mean()\n",
      "    k_scores.append(mean_score)\n",
      "\n",
      "print k_scores"
     ],
     "language": "python",
     "metadata": {},
     "outputs": [
      {
       "output_type": "stream",
       "stream": "stdout",
       "text": [
        "[0.95999999999999996, 0.95333333333333337, 0.96666666666666656, 0.96666666666666656, 0.96666666666666679, 0.96666666666666679, 0.96666666666666679, 0.96666666666666679, 0.97333333333333338, 0.96666666666666679, 0.96666666666666679, 0.97333333333333338, 0.98000000000000009, 0.97333333333333338, 0.97333333333333338, 0.97333333333333338, 0.97333333333333338, 0.98000000000000009, 0.97333333333333338, 0.98000000000000009, 0.96666666666666656, 0.96666666666666656, 0.97333333333333338, 0.95999999999999996, 0.96666666666666656, 0.95999999999999996, 0.96666666666666656, 0.95333333333333337, 0.95333333333333337, 0.95333333333333337]\n"
       ]
      }
     ],
     "prompt_number": 9
    },
    {
     "cell_type": "code",
     "collapsed": false,
     "input": [
      "plt.plot(k_range, k_scores)\n",
      "plt.xlabel('value of K')\n",
      "plt.ylabel('cross-validation accuracy')"
     ],
     "language": "python",
     "metadata": {},
     "outputs": [
      {
       "metadata": {},
       "output_type": "pyout",
       "prompt_number": 10,
       "text": [
        "<matplotlib.text.Text at 0x7f5c771a1910>"
       ]
      },
      {
       "metadata": {},
       "output_type": "display_data",
       "png": "[encoded data removed]",
       "text": [
        "<matplotlib.figure.Figure at 0x7f5c771d53d0>"
       ]
      }
     ],
     "prompt_number": 10
    },
    {
     "cell_type": "code",
     "collapsed": false,
     "input": [
      "# MORE EFFICIENT PARAMETER TUNING USING GridSearchCV\n",
      "\n",
      "from sklearn.grid_search import GridSearchCV"
     ],
     "language": "python",
     "metadata": {},
     "outputs": [],
     "prompt_number": 11
    },
    {
     "cell_type": "code",
     "collapsed": false,
     "input": [
      "k_range = range(1, 31)\n",
      "\n",
      "param_grid = dict(n_neighbors=k_range)\n",
      "\n",
      "print param_grid"
     ],
     "language": "python",
     "metadata": {},
     "outputs": [
      {
       "output_type": "stream",
       "stream": "stdout",
       "text": [
        "{'n_neighbors': [1, 2, 3, 4, 5, 6, 7, 8, 9, 10, 11, 12, 13, 14, 15, 16, 17, 18, 19, 20, 21, 22, 23, 24, 25, 26, 27, 28, 29, 30]}\n"
       ]
      }
     ],
     "prompt_number": 16
    },
    {
     "cell_type": "code",
     "collapsed": false,
     "input": [
      "# instantiate the grid\n",
      "\n",
      "grid = GridSearchCV(knn, param_grid, cv=10, scoring='accuracy')"
     ],
     "language": "python",
     "metadata": {},
     "outputs": [],
     "prompt_number": 20
    },
    {
     "cell_type": "code",
     "collapsed": false,
     "input": [
      "# fit the grid with data\n",
      "\n",
      "grid.fit(X, y)"
     ],
     "language": "python",
     "metadata": {},
     "outputs": [
      {
       "metadata": {},
       "output_type": "pyout",
       "prompt_number": 24,
       "text": [
        "GridSearchCV(cv=10,\n",
        "       estimator=KNeighborsClassifier(algorithm='auto', leaf_size=30, metric='minkowski',\n",
        "           metric_params=None, n_neighbors=30, p=2, weights='uniform'),\n",
        "       fit_params={}, iid=True, loss_func=None, n_jobs=1,\n",
        "       param_grid={'n_neighbors': [1, 2, 3, 4, 5, 6, 7, 8, 9, 10, 11, 12, 13, 14, 15, 16, 17, 18, 19, 20, 21, 22, 23, 24, 25, 26, 27, 28, 29, 30]},\n",
        "       pre_dispatch='2*n_jobs', refit=True, score_func=None,\n",
        "       scoring='accuracy', verbose=0)"
       ]
      }
     ],
     "prompt_number": 24
    },
    {
     "cell_type": "code",
     "collapsed": false,
     "input": [
      "# view the complete results\n",
      "\n",
      "grid.grid_scores_"
     ],
     "language": "python",
     "metadata": {},
     "outputs": [
      {
       "metadata": {},
       "output_type": "pyout",
       "prompt_number": 26,
       "text": [
        "[mean: 0.96000, std: 0.05333, params: {'n_neighbors': 1},\n",
        " mean: 0.95333, std: 0.05207, params: {'n_neighbors': 2},\n",
        " mean: 0.96667, std: 0.04472, params: {'n_neighbors': 3},\n",
        " mean: 0.96667, std: 0.04472, params: {'n_neighbors': 4},\n",
        " mean: 0.96667, std: 0.04472, params: {'n_neighbors': 5},\n",
        " mean: 0.96667, std: 0.04472, params: {'n_neighbors': 6},\n",
        " mean: 0.96667, std: 0.04472, params: {'n_neighbors': 7},\n",
        " mean: 0.96667, std: 0.04472, params: {'n_neighbors': 8},\n",
        " mean: 0.97333, std: 0.03266, params: {'n_neighbors': 9},\n",
        " mean: 0.96667, std: 0.04472, params: {'n_neighbors': 10},\n",
        " mean: 0.96667, std: 0.04472, params: {'n_neighbors': 11},\n",
        " mean: 0.97333, std: 0.03266, params: {'n_neighbors': 12},\n",
        " mean: 0.98000, std: 0.03055, params: {'n_neighbors': 13},\n",
        " mean: 0.97333, std: 0.04422, params: {'n_neighbors': 14},\n",
        " mean: 0.97333, std: 0.03266, params: {'n_neighbors': 15},\n",
        " mean: 0.97333, std: 0.03266, params: {'n_neighbors': 16},\n",
        " mean: 0.97333, std: 0.03266, params: {'n_neighbors': 17},\n",
        " mean: 0.98000, std: 0.03055, params: {'n_neighbors': 18},\n",
        " mean: 0.97333, std: 0.03266, params: {'n_neighbors': 19},\n",
        " mean: 0.98000, std: 0.03055, params: {'n_neighbors': 20},\n",
        " mean: 0.96667, std: 0.03333, params: {'n_neighbors': 21},\n",
        " mean: 0.96667, std: 0.03333, params: {'n_neighbors': 22},\n",
        " mean: 0.97333, std: 0.03266, params: {'n_neighbors': 23},\n",
        " mean: 0.96000, std: 0.04422, params: {'n_neighbors': 24},\n",
        " mean: 0.96667, std: 0.03333, params: {'n_neighbors': 25},\n",
        " mean: 0.96000, std: 0.04422, params: {'n_neighbors': 26},\n",
        " mean: 0.96667, std: 0.04472, params: {'n_neighbors': 27},\n",
        " mean: 0.95333, std: 0.04269, params: {'n_neighbors': 28},\n",
        " mean: 0.95333, std: 0.04269, params: {'n_neighbors': 29},\n",
        " mean: 0.95333, std: 0.04269, params: {'n_neighbors': 30}]"
       ]
      }
     ],
     "prompt_number": 26
    },
    {
     "cell_type": "code",
     "collapsed": false,
     "input": [
      "print grid.grid_scores_[0].parameters\n",
      "print grid.grid_scores_[0].cv_validation_scores\n",
      "print grid.grid_scores_[0].mean_validation_score"
     ],
     "language": "python",
     "metadata": {},
     "outputs": [
      {
       "output_type": "stream",
       "stream": "stdout",
       "text": [
        "{'n_neighbors': 1}\n",
        "[ 1.          0.93333333  1.          0.93333333  0.86666667  1.\n",
        "  0.86666667  1.          1.          1.        ]\n",
        "0.96\n"
       ]
      }
     ],
     "prompt_number": 39
    },
    {
     "cell_type": "code",
     "collapsed": false,
     "input": [
      "# create a list of mean scores only\n",
      "grid_mean_scores = [ms.mean_validation_score for ms in grid.grid_scores_]\n",
      "print grid_mean_scores"
     ],
     "language": "python",
     "metadata": {},
     "outputs": [
      {
       "output_type": "stream",
       "stream": "stdout",
       "text": [
        "[0.95999999999999996, 0.95333333333333337, 0.96666666666666667, 0.96666666666666667, 0.96666666666666667, 0.96666666666666667, 0.96666666666666667, 0.96666666666666667, 0.97333333333333338, 0.96666666666666667, 0.96666666666666667, 0.97333333333333338, 0.97999999999999998, 0.97333333333333338, 0.97333333333333338, 0.97333333333333338, 0.97333333333333338, 0.97999999999999998, 0.97333333333333338, 0.97999999999999998, 0.96666666666666667, 0.96666666666666667, 0.97333333333333338, 0.95999999999999996, 0.96666666666666667, 0.95999999999999996, 0.96666666666666667, 0.95333333333333337, 0.95333333333333337, 0.95333333333333337]\n"
       ]
      }
     ],
     "prompt_number": 40
    },
    {
     "cell_type": "code",
     "collapsed": false,
     "input": [
      "plt.plot(k_range, grid_mean_scores)\n",
      "plt.xlabel('value of K')\n",
      "plt.ylabel('cross-validation accuracy')"
     ],
     "language": "python",
     "metadata": {},
     "outputs": [
      {
       "metadata": {},
       "output_type": "pyout",
       "prompt_number": 41,
       "text": [
        "<matplotlib.text.Text at 0x7f5c76f64b90>"
       ]
      },
      {
       "metadata": {},
       "output_type": "display_data",
       "png": "[encoded data removed]",
       "text": [
        "<matplotlib.figure.Figure at 0x7f5c76fbecd0>"
       ]
      }
     ],
     "prompt_number": 41
    },
    {
     "cell_type": "code",
     "collapsed": false,
     "input": [
      "print grid.best_score_\n",
      "print grid.best_params_\n",
      "print grid.best_estimator_"
     ],
     "language": "python",
     "metadata": {},
     "outputs": [
      {
       "output_type": "stream",
       "stream": "stdout",
       "text": [
        "0.98\n",
        "{'n_neighbors': 13}\n",
        "KNeighborsClassifier(algorithm='auto', leaf_size=30, metric='minkowski',\n",
        "           metric_params=None, n_neighbors=13, p=2, weights='uniform')\n"
       ]
      }
     ],
     "prompt_number": 42
    },
    {
     "cell_type": "code",
     "collapsed": false,
     "input": [
      "# SEARCHING MULTIPLE PARAMETERS SIMULTANEOUSLY\n",
      "\n",
      "k_range = range(1, 31)\n",
      "weight_options = ['uniform', 'distance']\n",
      "\n",
      "param_grid = dict(weights=weight_options, n_neighbors=k_range)\n",
      "print param_grid"
     ],
     "language": "python",
     "metadata": {},
     "outputs": [
      {
       "output_type": "stream",
       "stream": "stdout",
       "text": [
        "{'n_neighbors': [1, 2, 3, 4, 5, 6, 7, 8, 9, 10, 11, 12, 13, 14, 15, 16, 17, 18, 19, 20, 21, 22, 23, 24, 25, 26, 27, 28, 29, 30], 'weights': ['uniform', 'distance']}\n"
       ]
      }
     ],
     "prompt_number": 47
    },
    {
     "cell_type": "code",
     "collapsed": false,
     "input": [
      "grid = GridSearchCV(knn, param_grid, scoring='accuracy', cv=10)\n",
      "\n",
      "grid.fit(X, y)\n",
      "\n",
      "print grid.best_estimator_\n",
      "print grid.best_params_\n",
      "print grid.best_score_"
     ],
     "language": "python",
     "metadata": {},
     "outputs": [
      {
       "output_type": "stream",
       "stream": "stdout",
       "text": [
        "KNeighborsClassifier(algorithm='auto', leaf_size=30, metric='minkowski',\n",
        "           metric_params=None, n_neighbors=13, p=2, weights='uniform')\n",
        "{'n_neighbors': 13, 'weights': 'uniform'}\n",
        "0.98\n"
       ]
      }
     ],
     "prompt_number": 50
    },
    {
     "cell_type": "code",
     "collapsed": false,
     "input": [
      "# train your model using the parameter values that gave the best score\n",
      "\n",
      "knn = KNeighborsClassifier(n_neighbors=13, weights='uniform')\n",
      "\n",
      "knn.fit(X, y)\n",
      "\n",
      "print knn.predict([3, 5, 4, 2])"
     ],
     "language": "python",
     "metadata": {},
     "outputs": [
      {
       "output_type": "stream",
       "stream": "stdout",
       "text": [
        "[1]\n"
       ]
      }
     ],
     "prompt_number": 52
    },
    {
     "cell_type": "code",
     "collapsed": false,
     "input": [
      "# a short cut for the cell above\n",
      "\n",
      "grid.predict([3, 5, 4, 2])"
     ],
     "language": "python",
     "metadata": {},
     "outputs": [
      {
       "metadata": {},
       "output_type": "pyout",
       "prompt_number": 53,
       "text": [
        "array([1])"
       ]
      }
     ],
     "prompt_number": 53
    },
    {
     "cell_type": "code",
     "collapsed": false,
     "input": [
      "# A less computationally intensive version where u limit self to X combinations.\n",
      "\n",
      "from sklearn.grid_search import RandomizedSearchCV\n",
      "\n",
      "param_dist = dict(n_neighbors=k_range, weights=weight_options)"
     ],
     "language": "python",
     "metadata": {},
     "outputs": [],
     "prompt_number": 60
    },
    {
     "cell_type": "code",
     "collapsed": false,
     "input": [
      "rand = RandomizedSearchCV(knn, param_dist, n_iter=10, cv=10, scoring='accuracy', random_state=5)\n",
      "rand.fit(X, y)\n",
      "rand.grid_scores_"
     ],
     "language": "python",
     "metadata": {},
     "outputs": [
      {
       "metadata": {},
       "output_type": "pyout",
       "prompt_number": 61,
       "text": [
        "[mean: 0.96667, std: 0.04472, params: {'n_neighbors': 4, 'weights': 'uniform'},\n",
        " mean: 0.97333, std: 0.03266, params: {'n_neighbors': 16, 'weights': 'distance'},\n",
        " mean: 0.96667, std: 0.04472, params: {'n_neighbors': 7, 'weights': 'uniform'},\n",
        " mean: 0.98000, std: 0.03055, params: {'n_neighbors': 17, 'weights': 'distance'},\n",
        " mean: 0.97333, std: 0.03266, params: {'n_neighbors': 9, 'weights': 'uniform'},\n",
        " mean: 0.96667, std: 0.04472, params: {'n_neighbors': 8, 'weights': 'uniform'},\n",
        " mean: 0.95333, std: 0.04269, params: {'n_neighbors': 28, 'weights': 'uniform'},\n",
        " mean: 0.98000, std: 0.03055, params: {'n_neighbors': 17, 'weights': 'distance'},\n",
        " mean: 0.97333, std: 0.03266, params: {'n_neighbors': 13, 'weights': 'distance'},\n",
        " mean: 0.97333, std: 0.03266, params: {'n_neighbors': 18, 'weights': 'distance'}]"
       ]
      }
     ],
     "prompt_number": 61
    },
    {
     "cell_type": "code",
     "collapsed": false,
     "input": [
      "print rand.best_score_\n",
      "print rand.best_params_"
     ],
     "language": "python",
     "metadata": {},
     "outputs": [
      {
       "output_type": "stream",
       "stream": "stdout",
       "text": [
        "0.98\n",
        "{'n_neighbors': 17, 'weights': 'distance'}\n"
       ]
      }
     ],
     "prompt_number": 62
    },
    {
     "cell_type": "code",
     "collapsed": false,
     "input": [],
     "language": "python",
     "metadata": {},
     "outputs": []
    }
   ],
   "metadata": {}
  }
 ]
}